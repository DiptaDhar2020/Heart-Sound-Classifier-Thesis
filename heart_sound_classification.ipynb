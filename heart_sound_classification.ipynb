{
  "cells": [
    {
      "cell_type": "code",
      "execution_count": null,
      "id": "bd8a8cee",
      "metadata": {
        "id": "bd8a8cee"
      },
      "outputs": [],
      "source": [
        "import numpy as np\n",
        "import pandas as pd\n",
        "import librosa\n",
        "import os"
      ]
    },
    {
      "cell_type": "code",
      "execution_count": null,
      "id": "235bb424",
      "metadata": {
        "id": "235bb424"
      },
      "outputs": [],
      "source": [
        "data_path = \"C:\\\\Users\\\\user\\\\Downloads\\\\train\"\n",
        "set_a=pd.read_csv(\"train.csv\")"
      ]
    },
    {
      "cell_type": "code",
      "execution_count": null,
      "id": "22e42f51",
      "metadata": {
        "id": "22e42f51",
        "outputId": "74ed3f1a-021a-4fd9-fb3b-d3f8eb6c9415"
      },
      "outputs": [
        {
          "data": {
            "text/html": [
              "<div>\n",
              "<style scoped>\n",
              "    .dataframe tbody tr th:only-of-type {\n",
              "        vertical-align: middle;\n",
              "    }\n",
              "\n",
              "    .dataframe tbody tr th {\n",
              "        vertical-align: top;\n",
              "    }\n",
              "\n",
              "    .dataframe thead th {\n",
              "        text-align: right;\n",
              "    }\n",
              "</style>\n",
              "<table border=\"1\" class=\"dataframe\">\n",
              "  <thead>\n",
              "    <tr style=\"text-align: right;\">\n",
              "      <th></th>\n",
              "      <th>fname</th>\n",
              "      <th>label</th>\n",
              "    </tr>\n",
              "  </thead>\n",
              "  <tbody>\n",
              "    <tr>\n",
              "      <th>0</th>\n",
              "      <td>healthy00001.wav</td>\n",
              "      <td>healthy</td>\n",
              "    </tr>\n",
              "    <tr>\n",
              "      <th>1</th>\n",
              "      <td>healthy00002.wav</td>\n",
              "      <td>healthy</td>\n",
              "    </tr>\n",
              "    <tr>\n",
              "      <th>2</th>\n",
              "      <td>healthy00003.wav</td>\n",
              "      <td>healthy</td>\n",
              "    </tr>\n",
              "    <tr>\n",
              "      <th>3</th>\n",
              "      <td>healthy00004.wav</td>\n",
              "      <td>healthy</td>\n",
              "    </tr>\n",
              "    <tr>\n",
              "      <th>4</th>\n",
              "      <td>healthy00005.wav</td>\n",
              "      <td>healthy</td>\n",
              "    </tr>\n",
              "  </tbody>\n",
              "</table>\n",
              "</div>"
            ],
            "text/plain": [
              "              fname    label\n",
              "0  healthy00001.wav  healthy\n",
              "1  healthy00002.wav  healthy\n",
              "2  healthy00003.wav  healthy\n",
              "3  healthy00004.wav  healthy\n",
              "4  healthy00005.wav  healthy"
            ]
          },
          "execution_count": 4,
          "metadata": {},
          "output_type": "execute_result"
        }
      ],
      "source": [
        "set_a.head()"
      ]
    },
    {
      "cell_type": "code",
      "execution_count": null,
      "id": "1d8ae3fd",
      "metadata": {
        "id": "1d8ae3fd"
      },
      "outputs": [],
      "source": [
        "def features_extractor(file):\n",
        "    audio, sample_rate = librosa.load(file_name, res_type='kaiser_fast')\n",
        "    mfccs_features = librosa.feature.mfcc(y=audio, sr=sample_rate, n_mfcc=40)\n",
        "    mfccs_scaled_features = np.mean(mfccs_features.T,axis=0)\n",
        "\n",
        "    return mfccs_scaled_features"
      ]
    },
    {
      "cell_type": "code",
      "execution_count": null,
      "id": "5937986d",
      "metadata": {
        "id": "5937986d",
        "outputId": "b966cf8b-8191-4393-93ce-c74dc1cff102"
      },
      "outputs": [
        {
          "name": "stderr",
          "output_type": "stream",
          "text": [
            "2964it [19:15,  2.57it/s]\n"
          ]
        }
      ],
      "source": [
        "from tqdm import tqdm\n",
        "### Now we iterate through every audio file and extract features\n",
        "### using Mel-Frequency Cepstral Coefficients\n",
        "extracted_features=[]\n",
        "for index_num,row in tqdm(set_a.iterrows()):\n",
        "    file_name = os.path.join(os.path.abspath(data_path), str(row[\"fname\"]))\n",
        "    final_class_labels=row[\"label\"]\n",
        "    data=features_extractor(file_name)\n",
        "    extracted_features.append([data,final_class_labels])"
      ]
    },
    {
      "cell_type": "code",
      "execution_count": null,
      "id": "949438bf",
      "metadata": {
        "id": "949438bf",
        "outputId": "99f7cad5-e31b-4fb4-fd86-f125e3ef9b1a"
      },
      "outputs": [
        {
          "data": {
            "text/html": [
              "<div>\n",
              "<style scoped>\n",
              "    .dataframe tbody tr th:only-of-type {\n",
              "        vertical-align: middle;\n",
              "    }\n",
              "\n",
              "    .dataframe tbody tr th {\n",
              "        vertical-align: top;\n",
              "    }\n",
              "\n",
              "    .dataframe thead th {\n",
              "        text-align: right;\n",
              "    }\n",
              "</style>\n",
              "<table border=\"1\" class=\"dataframe\">\n",
              "  <thead>\n",
              "    <tr style=\"text-align: right;\">\n",
              "      <th></th>\n",
              "      <th>feature</th>\n",
              "      <th>label</th>\n",
              "    </tr>\n",
              "  </thead>\n",
              "  <tbody>\n",
              "    <tr>\n",
              "      <th>0</th>\n",
              "      <td>[-464.35178, 42.00815, 35.443245, 27.206812, 1...</td>\n",
              "      <td>healthy</td>\n",
              "    </tr>\n",
              "    <tr>\n",
              "      <th>1</th>\n",
              "      <td>[-537.3792, 100.824684, 79.680916, 53.019573, ...</td>\n",
              "      <td>healthy</td>\n",
              "    </tr>\n",
              "    <tr>\n",
              "      <th>2</th>\n",
              "      <td>[-473.14993, 115.7308, 88.082375, 54.047775, 2...</td>\n",
              "      <td>healthy</td>\n",
              "    </tr>\n",
              "    <tr>\n",
              "      <th>3</th>\n",
              "      <td>[-463.59232, 112.05316, 87.31859, 56.56482, 29...</td>\n",
              "      <td>healthy</td>\n",
              "    </tr>\n",
              "    <tr>\n",
              "      <th>4</th>\n",
              "      <td>[-483.0581, 115.37701, 82.38545, 42.255928, 9....</td>\n",
              "      <td>healthy</td>\n",
              "    </tr>\n",
              "  </tbody>\n",
              "</table>\n",
              "</div>"
            ],
            "text/plain": [
              "                                             feature    label\n",
              "0  [-464.35178, 42.00815, 35.443245, 27.206812, 1...  healthy\n",
              "1  [-537.3792, 100.824684, 79.680916, 53.019573, ...  healthy\n",
              "2  [-473.14993, 115.7308, 88.082375, 54.047775, 2...  healthy\n",
              "3  [-463.59232, 112.05316, 87.31859, 56.56482, 29...  healthy\n",
              "4  [-483.0581, 115.37701, 82.38545, 42.255928, 9....  healthy"
            ]
          },
          "execution_count": 27,
          "metadata": {},
          "output_type": "execute_result"
        }
      ],
      "source": [
        "### converting extracted_features to Pandas dataframe\n",
        "extracted_features_df=pd.DataFrame(extracted_features,columns=['feature','label'])\n",
        "extracted_features_df.head()"
      ]
    },
    {
      "cell_type": "code",
      "execution_count": null,
      "id": "5b4710a7",
      "metadata": {
        "id": "5b4710a7"
      },
      "outputs": [],
      "source": [
        "### Split the dataset into independent and dependent dataset\n",
        "X=np.array(extracted_features_df['feature'].tolist())\n",
        "y=np.array(extracted_features_df['label'].tolist())"
      ]
    },
    {
      "cell_type": "code",
      "execution_count": null,
      "id": "392147ae",
      "metadata": {
        "id": "392147ae",
        "outputId": "efaf6bd4-d699-4bf2-bfa9-b8ceb4c8d49d"
      },
      "outputs": [
        {
          "data": {
            "text/plain": [
              "(2964, 40)"
            ]
          },
          "execution_count": 10,
          "metadata": {},
          "output_type": "execute_result"
        }
      ],
      "source": [
        "X.shape"
      ]
    },
    {
      "cell_type": "code",
      "execution_count": null,
      "id": "b27caea9",
      "metadata": {
        "scrolled": true,
        "id": "b27caea9",
        "outputId": "46bb83ef-bd2e-4a0f-90e1-f0b6217bc63b"
      },
      "outputs": [
        {
          "data": {
            "text/plain": [
              "(2964,)"
            ]
          },
          "execution_count": 11,
          "metadata": {},
          "output_type": "execute_result"
        }
      ],
      "source": [
        "y.shape"
      ]
    },
    {
      "cell_type": "code",
      "execution_count": null,
      "id": "aeec8a91",
      "metadata": {
        "id": "aeec8a91"
      },
      "outputs": [],
      "source": [
        "### Train Test Split\n",
        "from sklearn.model_selection import train_test_split\n",
        "X_train,X_test,y_train,y_test=train_test_split(X,y,test_size=0.2, random_state=2022)"
      ]
    },
    {
      "cell_type": "code",
      "execution_count": null,
      "id": "20edd403",
      "metadata": {
        "id": "20edd403",
        "outputId": "f55a7a9a-6deb-49e0-92ca-e113168e8d47"
      },
      "outputs": [
        {
          "name": "stdout",
          "output_type": "stream",
          "text": [
            "88.1956155143339\n"
          ]
        },
        {
          "name": "stderr",
          "output_type": "stream",
          "text": [
            "C:\\Users\\user\\anaconda3\\lib\\site-packages\\sklearn\\linear_model\\_logistic.py:458: ConvergenceWarning: lbfgs failed to converge (status=1):\n",
            "STOP: TOTAL NO. of ITERATIONS REACHED LIMIT.\n",
            "\n",
            "Increase the number of iterations (max_iter) or scale the data as shown in:\n",
            "    https://scikit-learn.org/stable/modules/preprocessing.html\n",
            "Please also refer to the documentation for alternative solver options:\n",
            "    https://scikit-learn.org/stable/modules/linear_model.html#logistic-regression\n",
            "  n_iter_i = _check_optimize_result(\n"
          ]
        }
      ],
      "source": [
        "from sklearn.linear_model import LogisticRegression\n",
        "from sklearn.metrics import accuracy_score,confusion_matrix\n",
        "logi_reg=LogisticRegression()\n",
        "logi_reg.fit(X_train,y_train)\n",
        "logi_pred=logi_reg.predict(X_test)\n",
        "acc_logi=accuracy_score(y_test, logi_pred)\n",
        "print(acc_logi*100)"
      ]
    },
    {
      "cell_type": "code",
      "execution_count": null,
      "id": "d5071afd",
      "metadata": {
        "id": "d5071afd",
        "outputId": "2bf0da12-03a5-484b-a342-248572fe244e"
      },
      "outputs": [
        {
          "name": "stdout",
          "output_type": "stream",
          "text": [
            "94.09780775716695\n"
          ]
        }
      ],
      "source": [
        "from sklearn.ensemble import RandomForestClassifier\n",
        "mod_RF=RandomForestClassifier()\n",
        "mod_RF.fit(X_train,y_train)\n",
        "pred_RF=mod_RF.predict(X_test)\n",
        "acc_RF=accuracy_score(y_test,pred_RF)\n",
        "print(acc_RF*100)"
      ]
    },
    {
      "cell_type": "code",
      "execution_count": null,
      "id": "f8a11664",
      "metadata": {
        "id": "f8a11664",
        "outputId": "58f0b665-8fde-452b-8d73-ac21ce1f2b9d"
      },
      "outputs": [
        {
          "name": "stdout",
          "output_type": "stream",
          "text": [
            "91.90556492411467\n"
          ]
        }
      ],
      "source": [
        "from sklearn.ensemble import AdaBoostClassifier\n",
        "mod_ada=AdaBoostClassifier()\n",
        "mod_ada.fit(X_train,y_train)\n",
        "pred_ada=mod_ada.predict(X_test)\n",
        "acc_ada=accuracy_score(y_test, pred_ada)\n",
        "print(acc_ada*100)"
      ]
    },
    {
      "cell_type": "code",
      "execution_count": null,
      "id": "277d2e09",
      "metadata": {
        "id": "277d2e09",
        "outputId": "c62122dc-aa50-4a86-b8f6-e5417eed94be"
      },
      "outputs": [
        {
          "name": "stdout",
          "output_type": "stream",
          "text": [
            "91.73693086003372\n"
          ]
        }
      ],
      "source": [
        "from sklearn.svm import SVC\n",
        "mod_svc=SVC(kernel='linear',probability = True)\n",
        "mod_svc.fit(X_train,y_train)\n",
        "pred_svc=mod_svc.predict(X_test)\n",
        "acc_svc=accuracy_score(y_test,pred_svc)\n",
        "print(acc_svc*100)"
      ]
    },
    {
      "cell_type": "code",
      "execution_count": null,
      "id": "3efe78f9",
      "metadata": {
        "id": "3efe78f9"
      },
      "outputs": [],
      "source": [
        "from sklearn.tree import DecisionTreeClassifier\n",
        "from sklearn.neighbors import KNeighborsClassifier\n",
        "mod_tree = DecisionTreeClassifier()\n",
        "mod_k = KNeighborsClassifier(n_neighbors=6)\n",
        "mod_tree.fit(X_train, y_train)\n",
        "mod_k.fit(X_train, y_train)\n",
        "k_pred = mod_k.predict(X_test)\n",
        "tree_pred = mod_tree.predict(X_test)"
      ]
    },
    {
      "cell_type": "code",
      "execution_count": null,
      "id": "9aef2428",
      "metadata": {
        "id": "9aef2428",
        "outputId": "aae22269-e934-44af-89d3-d1ce7aa699de"
      },
      "outputs": [
        {
          "data": {
            "text/plain": [
              "91.2310286677909"
            ]
          },
          "execution_count": 18,
          "metadata": {},
          "output_type": "execute_result"
        }
      ],
      "source": [
        "acc_tree = accuracy_score(y_test, tree_pred)\n",
        "acc_tree*100"
      ]
    },
    {
      "cell_type": "code",
      "execution_count": null,
      "id": "50d92fc6",
      "metadata": {
        "id": "50d92fc6",
        "outputId": "7b1b2458-3f59-403d-af65-bbf97e6a61a1"
      },
      "outputs": [
        {
          "data": {
            "text/plain": [
              "91.56829679595279"
            ]
          },
          "execution_count": 19,
          "metadata": {},
          "output_type": "execute_result"
        }
      ],
      "source": [
        "acc_knn = accuracy_score(y_test, k_pred)\n",
        "acc_knn*100"
      ]
    },
    {
      "cell_type": "code",
      "execution_count": null,
      "id": "37407c17",
      "metadata": {
        "id": "37407c17"
      },
      "outputs": [],
      "source": [
        "ACC=pd.DataFrame({'Algorithm':['Logistic Regression', 'Random Forest','Adaboost','SVM', 'Decision Tree Classifier', 'KNN'],'Accuracy':[acc_logi*100,acc_RF*100,acc_ada*100,acc_svc*100, acc_tree*100, acc_knn*100]},columns=['Algorithm','Accuracy'])"
      ]
    },
    {
      "cell_type": "code",
      "execution_count": null,
      "id": "e850f166",
      "metadata": {
        "scrolled": true,
        "id": "e850f166",
        "outputId": "741cf68b-bc24-434d-bdc9-df4a1b9441bd"
      },
      "outputs": [
        {
          "data": {
            "text/html": [
              "<div>\n",
              "<style scoped>\n",
              "    .dataframe tbody tr th:only-of-type {\n",
              "        vertical-align: middle;\n",
              "    }\n",
              "\n",
              "    .dataframe tbody tr th {\n",
              "        vertical-align: top;\n",
              "    }\n",
              "\n",
              "    .dataframe thead th {\n",
              "        text-align: right;\n",
              "    }\n",
              "</style>\n",
              "<table border=\"1\" class=\"dataframe\">\n",
              "  <thead>\n",
              "    <tr style=\"text-align: right;\">\n",
              "      <th></th>\n",
              "      <th>Algorithm</th>\n",
              "      <th>Accuracy</th>\n",
              "    </tr>\n",
              "  </thead>\n",
              "  <tbody>\n",
              "    <tr>\n",
              "      <th>0</th>\n",
              "      <td>Logistic Regression</td>\n",
              "      <td>88.195616</td>\n",
              "    </tr>\n",
              "    <tr>\n",
              "      <th>1</th>\n",
              "      <td>Random Forest</td>\n",
              "      <td>94.097808</td>\n",
              "    </tr>\n",
              "    <tr>\n",
              "      <th>2</th>\n",
              "      <td>Adaboost</td>\n",
              "      <td>91.905565</td>\n",
              "    </tr>\n",
              "    <tr>\n",
              "      <th>3</th>\n",
              "      <td>SVM</td>\n",
              "      <td>91.736931</td>\n",
              "    </tr>\n",
              "    <tr>\n",
              "      <th>4</th>\n",
              "      <td>Decision Tree Classifier</td>\n",
              "      <td>91.231029</td>\n",
              "    </tr>\n",
              "    <tr>\n",
              "      <th>5</th>\n",
              "      <td>KNN</td>\n",
              "      <td>91.568297</td>\n",
              "    </tr>\n",
              "  </tbody>\n",
              "</table>\n",
              "</div>"
            ],
            "text/plain": [
              "                  Algorithm   Accuracy\n",
              "0       Logistic Regression  88.195616\n",
              "1             Random Forest  94.097808\n",
              "2                  Adaboost  91.905565\n",
              "3                       SVM  91.736931\n",
              "4  Decision Tree Classifier  91.231029\n",
              "5                       KNN  91.568297"
            ]
          },
          "execution_count": 21,
          "metadata": {},
          "output_type": "execute_result"
        }
      ],
      "source": [
        "ACC"
      ]
    },
    {
      "cell_type": "code",
      "execution_count": null,
      "id": "7c7993f6",
      "metadata": {
        "scrolled": true,
        "id": "7c7993f6",
        "outputId": "fdaa523a-4002-45ba-d2ba-c8c7861f9020"
      },
      "outputs": [
        {
          "name": "stdout",
          "output_type": "stream",
          "text": [
            "Model performance for Training set\n",
            "- Accuracy: 0.9949388443694643\n",
            "- MCC: 0.9821334639785817\n",
            "- F1 score: 0.9949588183162906\n",
            "----------------------------------\n",
            "Model performance for Test set\n",
            "- Accuracy: 0.9460370994940978\n",
            "- MCC: 0.8140679998429007\n",
            "- F1 score: 0.9441263749621783\n"
          ]
        }
      ],
      "source": [
        "from sklearn.metrics import matthews_corrcoef\n",
        "from sklearn.metrics import f1_score\n",
        "from sklearn.ensemble import StackingClassifier\n",
        "from sklearn.linear_model import LogisticRegression\n",
        "estimator_list = [\n",
        "    ('knn',mod_k),\n",
        "    ('svm',mod_svc),\n",
        "    ('dtree',mod_tree),\n",
        "    ('rf',mod_RF),\n",
        "    (\"ada\",mod_ada)\n",
        "]\n",
        "stack_model = StackingClassifier(\n",
        "    estimators=estimator_list, final_estimator=LogisticRegression())\n",
        "# Train stacked model\n",
        "stack_model.fit(X_train, y_train)\n",
        "\n",
        "# Make predictions\n",
        "y_train_pred = stack_model.predict(X_train)\n",
        "y_test_pred = stack_model.predict(X_test)\n",
        "\n",
        "# Training set model performance\n",
        "stack_model_train_accuracy = accuracy_score(y_train, y_train_pred) # Calculate Accuracy\n",
        "stack_model_train_mcc = matthews_corrcoef(y_train, y_train_pred) # Calculate MCC\n",
        "stack_model_train_f1 = f1_score(y_train, y_train_pred, average='weighted') # Calculate F1-score\n",
        "\n",
        "# Test set model performance\n",
        "stack_model_test_accuracy = accuracy_score(y_test, y_test_pred) # Calculate Accuracy\n",
        "stack_model_test_mcc = matthews_corrcoef(y_test, y_test_pred) # Calculate MCC\n",
        "stack_model_test_f1 = f1_score(y_test, y_test_pred, average='weighted') # Calculate F1-score\n",
        "\n",
        "print('Model performance for Training set')\n",
        "print('- Accuracy: %s' % stack_model_train_accuracy)\n",
        "print('- MCC: %s' % stack_model_train_mcc)\n",
        "print('- F1 score: %s' % stack_model_train_f1)\n",
        "print('----------------------------------')\n",
        "print('Model performance for Test set')\n",
        "print('- Accuracy: %s' % stack_model_test_accuracy)\n",
        "print('- MCC: %s' % stack_model_test_mcc)\n",
        "print('- F1 score: %s' % stack_model_test_f1)"
      ]
    },
    {
      "cell_type": "code",
      "execution_count": null,
      "id": "d427bc0a",
      "metadata": {
        "id": "d427bc0a",
        "outputId": "8198ee17-5af9-4ed3-ce0e-25dfc28a1178"
      },
      "outputs": [
        {
          "data": {
            "text/plain": [
              "array([[476,   7],\n",
              "       [ 25,  85]], dtype=int64)"
            ]
          },
          "execution_count": 26,
          "metadata": {},
          "output_type": "execute_result"
        }
      ],
      "source": [
        "from sklearn.metrics import confusion_matrix\n",
        "confusion_matrix(y_test, y_test_pred)"
      ]
    },
    {
      "cell_type": "code",
      "execution_count": null,
      "id": "e15e01fa",
      "metadata": {
        "id": "e15e01fa",
        "outputId": "8e83ea70-7a85-4ca1-f58a-2af48c4c42b3"
      },
      "outputs": [
        {
          "name": "stdout",
          "output_type": "stream",
          "text": [
            "              precision    recall  f1-score   support\n",
            "\n",
            "     healthy       0.95      0.99      0.97       483\n",
            "   unhealthy       0.92      0.77      0.84       110\n",
            "\n",
            "    accuracy                           0.95       593\n",
            "   macro avg       0.94      0.88      0.90       593\n",
            "weighted avg       0.95      0.95      0.94       593\n",
            "\n"
          ]
        }
      ],
      "source": [
        "from sklearn.metrics import classification_report\n",
        "print(classification_report(y_test, y_test_pred))"
      ]
    },
    {
      "cell_type": "code",
      "execution_count": null,
      "id": "5c420889",
      "metadata": {
        "id": "5c420889"
      },
      "outputs": [],
      "source": [
        "#DEEP"
      ]
    },
    {
      "cell_type": "code",
      "execution_count": null,
      "id": "b3756480",
      "metadata": {
        "id": "b3756480"
      },
      "outputs": [],
      "source": [
        "### Label Encoding\n",
        "#from tensorflow.keras.utils import to_categorical\n",
        "#from sklearn.preprocessing import LabelEncoder\n",
        "#labelencoder=LabelEncoder()\n",
        "#y=to_categorical(labelencoder.fit_transform(y))\n",
        "y=np.array(pd.get_dummies(y))\n"
      ]
    },
    {
      "cell_type": "code",
      "execution_count": null,
      "id": "f6c9f684",
      "metadata": {
        "id": "f6c9f684"
      },
      "outputs": [],
      "source": [
        "### Train Test Split\n",
        "from sklearn.model_selection import train_test_split\n",
        "X_train,X_test,y_train,y_test=train_test_split(X,y,test_size=0.2, random_state=2022)"
      ]
    },
    {
      "cell_type": "code",
      "execution_count": null,
      "id": "6b67a1f7",
      "metadata": {
        "id": "6b67a1f7",
        "outputId": "65bd3262-024b-4e46-bcc7-9c61980e2aef"
      },
      "outputs": [
        {
          "data": {
            "text/plain": [
              "(2964, 2)"
            ]
          },
          "execution_count": 35,
          "metadata": {},
          "output_type": "execute_result"
        }
      ],
      "source": [
        "y.shape"
      ]
    },
    {
      "cell_type": "code",
      "execution_count": null,
      "id": "f54eb4cd",
      "metadata": {
        "id": "f54eb4cd",
        "outputId": "2c52417a-21a2-4966-e14e-0b0095b63c9a"
      },
      "outputs": [
        {
          "data": {
            "text/plain": [
              "(2371, 40)"
            ]
          },
          "execution_count": 80,
          "metadata": {},
          "output_type": "execute_result"
        }
      ],
      "source": [
        "X_train.shape"
      ]
    },
    {
      "cell_type": "code",
      "execution_count": null,
      "id": "9084e41d",
      "metadata": {
        "id": "9084e41d",
        "outputId": "2235b3a7-aee1-4f1d-b6ac-6aebcba9441f"
      },
      "outputs": [
        {
          "data": {
            "text/plain": [
              "(593, 40)"
            ]
          },
          "execution_count": 81,
          "metadata": {},
          "output_type": "execute_result"
        }
      ],
      "source": [
        "X_test.shape"
      ]
    },
    {
      "cell_type": "code",
      "execution_count": null,
      "id": "bb90cac8",
      "metadata": {
        "id": "bb90cac8",
        "outputId": "631b3f48-0962-417a-e7cb-8ed72106f175"
      },
      "outputs": [
        {
          "data": {
            "text/plain": [
              "(2371, 2)"
            ]
          },
          "execution_count": 82,
          "metadata": {},
          "output_type": "execute_result"
        }
      ],
      "source": [
        "y_train.shape"
      ]
    },
    {
      "cell_type": "code",
      "execution_count": null,
      "id": "5c5a7350",
      "metadata": {
        "id": "5c5a7350",
        "outputId": "bf60d40e-e107-4c52-c6fa-a05d7a2b2a3b"
      },
      "outputs": [
        {
          "data": {
            "text/plain": [
              "(593, 2)"
            ]
          },
          "execution_count": 83,
          "metadata": {},
          "output_type": "execute_result"
        }
      ],
      "source": [
        "y_test.shape"
      ]
    },
    {
      "cell_type": "code",
      "execution_count": null,
      "id": "7ebb8398",
      "metadata": {
        "id": "7ebb8398",
        "outputId": "a88bc984-eba0-4220-d405-c34f42276d26"
      },
      "outputs": [
        {
          "data": {
            "text/plain": [
              "array([[-5.20704041e+02,  1.23896202e+02,  9.05382538e+01, ...,\n",
              "        -1.60558140e+00, -2.68588603e-01,  7.51897991e-01],\n",
              "       [-6.35821472e+02,  1.28705429e+02,  9.39685440e+01, ...,\n",
              "         1.54518116e+00,  2.77337527e+00,  2.63617563e+00],\n",
              "       [-4.92968201e+02,  1.65156815e+02,  1.18307076e+02, ...,\n",
              "         2.47329974e+00,  3.15899014e+00,  2.24857044e+00],\n",
              "       ...,\n",
              "       [-4.95041931e+02,  8.05405121e+01,  6.50043106e+01, ...,\n",
              "        -3.58712584e-01, -3.92459363e-01,  5.79564311e-02],\n",
              "       [-4.26509094e+02,  1.25598045e+02,  8.93572769e+01, ...,\n",
              "         1.47553325e+00,  2.53331661e+00,  2.25540209e+00],\n",
              "       [-4.24604156e+02,  1.30097977e+02,  9.23661499e+01, ...,\n",
              "         8.74363363e-01,  1.86571050e+00,  1.52698898e+00]], dtype=float32)"
            ]
          },
          "execution_count": 58,
          "metadata": {},
          "output_type": "execute_result"
        }
      ],
      "source": [
        "X_train"
      ]
    },
    {
      "cell_type": "code",
      "execution_count": null,
      "id": "6fc03be7",
      "metadata": {
        "scrolled": true,
        "id": "6fc03be7",
        "outputId": "8490ab07-d241-49f2-cf54-5337f3420343"
      },
      "outputs": [
        {
          "data": {
            "text/plain": [
              "array([[1, 0],\n",
              "       [1, 0],\n",
              "       [1, 0],\n",
              "       ...,\n",
              "       [0, 1],\n",
              "       [0, 1],\n",
              "       [0, 1]], dtype=uint8)"
            ]
          },
          "execution_count": 59,
          "metadata": {},
          "output_type": "execute_result"
        }
      ],
      "source": [
        "y"
      ]
    },
    {
      "cell_type": "code",
      "execution_count": null,
      "id": "68d88fb2",
      "metadata": {
        "id": "68d88fb2",
        "outputId": "1d065c80-fea2-4408-e38c-22db0c361c77"
      },
      "outputs": [
        {
          "name": "stdout",
          "output_type": "stream",
          "text": [
            "2.13.0\n"
          ]
        }
      ],
      "source": [
        "import tensorflow as tf\n",
        "print(tf.__version__)"
      ]
    },
    {
      "cell_type": "code",
      "execution_count": null,
      "id": "f8ed3d59",
      "metadata": {
        "id": "f8ed3d59"
      },
      "outputs": [],
      "source": [
        "from tensorflow.keras.models import Sequential\n",
        "from tensorflow.keras.layers import Dense,Dropout,Activation,Flatten\n",
        "from tensorflow.keras.optimizers import Adam\n",
        "from sklearn import metrics"
      ]
    },
    {
      "cell_type": "code",
      "execution_count": null,
      "id": "754e557f",
      "metadata": {
        "id": "754e557f"
      },
      "outputs": [],
      "source": [
        "### No of classes\n",
        "num_labels=y.shape[1]"
      ]
    },
    {
      "cell_type": "code",
      "execution_count": null,
      "id": "1875f791",
      "metadata": {
        "id": "1875f791"
      },
      "outputs": [],
      "source": [
        "model=Sequential()\n",
        "###first layer\n",
        "model.add(Dense(100,input_shape=(40,)))\n",
        "model.add(Activation('relu'))\n",
        "model.add(Dropout(0.5))\n",
        "###second layer\n",
        "model.add(Dense(200))\n",
        "model.add(Activation('relu'))\n",
        "model.add(Dropout(0.5))\n",
        "###third layer\n",
        "model.add(Dense(100))\n",
        "model.add(Activation('relu'))\n",
        "model.add(Dropout(0.5))\n",
        "\n",
        "###final layer\n",
        "model.add(Dense(num_labels))\n",
        "model.add(Activation('softmax'))"
      ]
    },
    {
      "cell_type": "code",
      "execution_count": null,
      "id": "f9d5a8c2",
      "metadata": {
        "id": "f9d5a8c2",
        "outputId": "28803ac2-fb97-4cd7-a58c-c259a7258f4a"
      },
      "outputs": [
        {
          "name": "stdout",
          "output_type": "stream",
          "text": [
            "Model: \"sequential\"\n",
            "_________________________________________________________________\n",
            " Layer (type)                Output Shape              Param #   \n",
            "=================================================================\n",
            " dense (Dense)               (None, 100)               4100      \n",
            "                                                                 \n",
            " activation (Activation)     (None, 100)               0         \n",
            "                                                                 \n",
            " dropout (Dropout)           (None, 100)               0         \n",
            "                                                                 \n",
            " dense_1 (Dense)             (None, 200)               20200     \n",
            "                                                                 \n",
            " activation_1 (Activation)   (None, 200)               0         \n",
            "                                                                 \n",
            " dropout_1 (Dropout)         (None, 200)               0         \n",
            "                                                                 \n",
            " dense_2 (Dense)             (None, 100)               20100     \n",
            "                                                                 \n",
            " activation_2 (Activation)   (None, 100)               0         \n",
            "                                                                 \n",
            " dropout_2 (Dropout)         (None, 100)               0         \n",
            "                                                                 \n",
            " dense_3 (Dense)             (None, 2)                 202       \n",
            "                                                                 \n",
            " activation_3 (Activation)   (None, 2)                 0         \n",
            "                                                                 \n",
            "=================================================================\n",
            "Total params: 44602 (174.23 KB)\n",
            "Trainable params: 44602 (174.23 KB)\n",
            "Non-trainable params: 0 (0.00 Byte)\n",
            "_________________________________________________________________\n"
          ]
        }
      ],
      "source": [
        "model.summary()"
      ]
    },
    {
      "cell_type": "code",
      "execution_count": null,
      "id": "17f81ba7",
      "metadata": {
        "id": "17f81ba7"
      },
      "outputs": [],
      "source": [
        "model.compile(loss='binary_crossentropy',metrics=['accuracy'],optimizer='adam')"
      ]
    },
    {
      "cell_type": "code",
      "execution_count": null,
      "id": "217fe281",
      "metadata": {
        "scrolled": true,
        "id": "217fe281",
        "outputId": "47ce5dcc-5fd1-4aee-d23c-3d13c4d3fd83"
      },
      "outputs": [
        {
          "name": "stdout",
          "output_type": "stream",
          "text": [
            "Epoch 1/200\n",
            "75/75 [==============================] - ETA: 0s - loss: 8.3848 - accuracy: 0.7592\n",
            "Epoch 1: val_loss improved from inf to 0.82946, saving model to saved_models\\heart_sound_classification.hdf5\n",
            "75/75 [==============================] - 4s 16ms/step - loss: 8.3848 - accuracy: 0.7592 - val_loss: 0.8295 - val_accuracy: 0.8145\n",
            "Epoch 2/200\n",
            "11/75 [===>..........................] - ETA: 0s - loss: 3.5921 - accuracy: 0.7670"
          ]
        },
        {
          "name": "stderr",
          "output_type": "stream",
          "text": [
            "C:\\Users\\user\\anaconda3\\lib\\site-packages\\keras\\src\\engine\\training.py:3000: UserWarning: You are saving your model as an HDF5 file via `model.save()`. This file format is considered legacy. We recommend using instead the native Keras format, e.g. `model.save('my_model.keras')`.\n",
            "  saving_api.save_model(\n"
          ]
        },
        {
          "name": "stdout",
          "output_type": "stream",
          "text": [
            "67/75 [=========================>....] - ETA: 0s - loss: 2.6259 - accuracy: 0.7579\n",
            "Epoch 2: val_loss improved from 0.82946 to 0.61890, saving model to saved_models\\heart_sound_classification.hdf5\n",
            "75/75 [==============================] - 1s 9ms/step - loss: 2.5465 - accuracy: 0.7588 - val_loss: 0.6189 - val_accuracy: 0.8145\n",
            "Epoch 3/200\n",
            "71/75 [===========================>..] - ETA: 0s - loss: 1.3140 - accuracy: 0.7619\n",
            "Epoch 3: val_loss did not improve from 0.61890\n",
            "75/75 [==============================] - 1s 8ms/step - loss: 1.2858 - accuracy: 0.7647 - val_loss: 0.6685 - val_accuracy: 0.8145\n",
            "Epoch 4/200\n",
            "67/75 [=========================>....] - ETA: 0s - loss: 0.8591 - accuracy: 0.7757\n",
            "Epoch 4: val_loss did not improve from 0.61890\n",
            "75/75 [==============================] - 1s 7ms/step - loss: 0.8348 - accuracy: 0.7807 - val_loss: 0.6435 - val_accuracy: 0.8145\n",
            "Epoch 5/200\n",
            "71/75 [===========================>..] - ETA: 0s - loss: 0.6653 - accuracy: 0.7984\n",
            "Epoch 5: val_loss improved from 0.61890 to 0.59271, saving model to saved_models\\heart_sound_classification.hdf5\n",
            "75/75 [==============================] - 1s 8ms/step - loss: 0.6626 - accuracy: 0.7984 - val_loss: 0.5927 - val_accuracy: 0.8145\n",
            "Epoch 6/200\n",
            "69/75 [==========================>...] - ETA: 0s - loss: 0.5933 - accuracy: 0.8084\n",
            "Epoch 6: val_loss improved from 0.59271 to 0.55891, saving model to saved_models\\heart_sound_classification.hdf5\n",
            "75/75 [==============================] - 0s 6ms/step - loss: 0.5944 - accuracy: 0.8089 - val_loss: 0.5589 - val_accuracy: 0.8145\n",
            "Epoch 7/200\n",
            "68/75 [==========================>...] - ETA: 0s - loss: 0.5600 - accuracy: 0.8199\n",
            "Epoch 7: val_loss improved from 0.55891 to 0.52218, saving model to saved_models\\heart_sound_classification.hdf5\n",
            "75/75 [==============================] - 0s 7ms/step - loss: 0.5609 - accuracy: 0.8186 - val_loss: 0.5222 - val_accuracy: 0.8145\n",
            "Epoch 8/200\n",
            "72/75 [===========================>..] - ETA: 0s - loss: 0.5197 - accuracy: 0.8260\n",
            "Epoch 8: val_loss did not improve from 0.52218\n",
            "75/75 [==============================] - 0s 6ms/step - loss: 0.5207 - accuracy: 0.8250 - val_loss: 0.5279 - val_accuracy: 0.8145\n",
            "Epoch 9/200\n",
            "67/75 [=========================>....] - ETA: 0s - loss: 0.5073 - accuracy: 0.8260\n",
            "Epoch 9: val_loss improved from 0.52218 to 0.48349, saving model to saved_models\\heart_sound_classification.hdf5\n",
            "75/75 [==============================] - 0s 7ms/step - loss: 0.5060 - accuracy: 0.8258 - val_loss: 0.4835 - val_accuracy: 0.8145\n",
            "Epoch 10/200\n",
            "66/75 [=========================>....] - ETA: 0s - loss: 0.4929 - accuracy: 0.8262\n",
            "Epoch 10: val_loss did not improve from 0.48349\n",
            "75/75 [==============================] - 0s 6ms/step - loss: 0.4911 - accuracy: 0.8275 - val_loss: 0.4946 - val_accuracy: 0.8145\n",
            "Epoch 11/200\n",
            "68/75 [==========================>...] - ETA: 0s - loss: 0.4819 - accuracy: 0.8318\n",
            "Epoch 11: val_loss improved from 0.48349 to 0.47113, saving model to saved_models\\heart_sound_classification.hdf5\n",
            "75/75 [==============================] - 0s 7ms/step - loss: 0.4808 - accuracy: 0.8326 - val_loss: 0.4711 - val_accuracy: 0.8145\n",
            "Epoch 12/200\n",
            "72/75 [===========================>..] - ETA: 0s - loss: 0.4684 - accuracy: 0.8312\n",
            "Epoch 12: val_loss improved from 0.47113 to 0.46075, saving model to saved_models\\heart_sound_classification.hdf5\n",
            "75/75 [==============================] - 0s 6ms/step - loss: 0.4690 - accuracy: 0.8305 - val_loss: 0.4608 - val_accuracy: 0.8145\n",
            "Epoch 13/200\n",
            "68/75 [==========================>...] - ETA: 0s - loss: 0.4451 - accuracy: 0.8313\n",
            "Epoch 13: val_loss improved from 0.46075 to 0.43838, saving model to saved_models\\heart_sound_classification.hdf5\n",
            "75/75 [==============================] - 0s 6ms/step - loss: 0.4482 - accuracy: 0.8300 - val_loss: 0.4384 - val_accuracy: 0.8145\n",
            "Epoch 14/200\n",
            "71/75 [===========================>..] - ETA: 0s - loss: 0.4311 - accuracy: 0.8297\n",
            "Epoch 14: val_loss improved from 0.43838 to 0.39211, saving model to saved_models\\heart_sound_classification.hdf5\n",
            "75/75 [==============================] - 0s 6ms/step - loss: 0.4308 - accuracy: 0.8300 - val_loss: 0.3921 - val_accuracy: 0.8145\n",
            "Epoch 15/200\n",
            "71/75 [===========================>..] - ETA: 0s - loss: 0.4091 - accuracy: 0.8301\n",
            "Epoch 15: val_loss improved from 0.39211 to 0.37411, saving model to saved_models\\heart_sound_classification.hdf5\n",
            "75/75 [==============================] - 0s 6ms/step - loss: 0.4123 - accuracy: 0.8305 - val_loss: 0.3741 - val_accuracy: 0.8145\n",
            "Epoch 16/200\n",
            "71/75 [===========================>..] - ETA: 0s - loss: 0.4177 - accuracy: 0.8305\n",
            "Epoch 16: val_loss did not improve from 0.37411\n",
            "75/75 [==============================] - 0s 6ms/step - loss: 0.4153 - accuracy: 0.8309 - val_loss: 0.3753 - val_accuracy: 0.8145\n",
            "Epoch 17/200\n",
            "68/75 [==========================>...] - ETA: 0s - loss: 0.3930 - accuracy: 0.8263\n",
            "Epoch 17: val_loss improved from 0.37411 to 0.34068, saving model to saved_models\\heart_sound_classification.hdf5\n",
            "75/75 [==============================] - 0s 7ms/step - loss: 0.3877 - accuracy: 0.8296 - val_loss: 0.3407 - val_accuracy: 0.8145\n",
            "Epoch 18/200\n",
            "71/75 [===========================>..] - ETA: 0s - loss: 0.3859 - accuracy: 0.8283\n",
            "Epoch 18: val_loss improved from 0.34068 to 0.33589, saving model to saved_models\\heart_sound_classification.hdf5\n",
            "75/75 [==============================] - 0s 6ms/step - loss: 0.3835 - accuracy: 0.8309 - val_loss: 0.3359 - val_accuracy: 0.8145\n",
            "Epoch 19/200\n",
            "67/75 [=========================>....] - ETA: 0s - loss: 0.3615 - accuracy: 0.8321\n",
            "Epoch 19: val_loss did not improve from 0.33589\n",
            "75/75 [==============================] - 0s 6ms/step - loss: 0.3613 - accuracy: 0.8309 - val_loss: 0.3485 - val_accuracy: 0.8145\n",
            "Epoch 20/200\n",
            "68/75 [==========================>...] - ETA: 0s - loss: 0.3618 - accuracy: 0.8318\n",
            "Epoch 20: val_loss improved from 0.33589 to 0.32271, saving model to saved_models\\heart_sound_classification.hdf5\n",
            "75/75 [==============================] - 0s 7ms/step - loss: 0.3626 - accuracy: 0.8317 - val_loss: 0.3227 - val_accuracy: 0.8145\n",
            "Epoch 21/200\n",
            "71/75 [===========================>..] - ETA: 0s - loss: 0.3606 - accuracy: 0.8301\n",
            "Epoch 21: val_loss did not improve from 0.32271\n",
            "75/75 [==============================] - 0s 6ms/step - loss: 0.3594 - accuracy: 0.8309 - val_loss: 0.3470 - val_accuracy: 0.8145\n",
            "Epoch 22/200\n",
            "69/75 [==========================>...] - ETA: 0s - loss: 0.3560 - accuracy: 0.8306\n",
            "Epoch 22: val_loss improved from 0.32271 to 0.32053, saving model to saved_models\\heart_sound_classification.hdf5\n",
            "75/75 [==============================] - 0s 6ms/step - loss: 0.3543 - accuracy: 0.8313 - val_loss: 0.3205 - val_accuracy: 0.8145\n",
            "Epoch 23/200\n",
            "75/75 [==============================] - ETA: 0s - loss: 0.3505 - accuracy: 0.8326\n",
            "Epoch 23: val_loss did not improve from 0.32053\n",
            "75/75 [==============================] - 0s 6ms/step - loss: 0.3505 - accuracy: 0.8326 - val_loss: 0.3245 - val_accuracy: 0.8145\n",
            "Epoch 24/200\n",
            "71/75 [===========================>..] - ETA: 0s - loss: 0.3454 - accuracy: 0.8345\n",
            "Epoch 24: val_loss did not improve from 0.32053\n",
            "75/75 [==============================] - 0s 6ms/step - loss: 0.3533 - accuracy: 0.8321 - val_loss: 0.3283 - val_accuracy: 0.8145\n",
            "Epoch 25/200\n",
            "71/75 [===========================>..] - ETA: 0s - loss: 0.3337 - accuracy: 0.8345\n",
            "Epoch 25: val_loss did not improve from 0.32053\n",
            "75/75 [==============================] - 0s 6ms/step - loss: 0.3394 - accuracy: 0.8326 - val_loss: 0.3463 - val_accuracy: 0.8145\n",
            "Epoch 26/200\n",
            "73/75 [============================>.] - ETA: 0s - loss: 0.3466 - accuracy: 0.8313\n",
            "Epoch 26: val_loss improved from 0.32053 to 0.31658, saving model to saved_models\\heart_sound_classification.hdf5\n",
            "75/75 [==============================] - 1s 7ms/step - loss: 0.3463 - accuracy: 0.8321 - val_loss: 0.3166 - val_accuracy: 0.8145\n",
            "Epoch 27/200\n",
            "67/75 [=========================>....] - ETA: 0s - loss: 0.3541 - accuracy: 0.8330\n",
            "Epoch 27: val_loss improved from 0.31658 to 0.30938, saving model to saved_models\\heart_sound_classification.hdf5\n",
            "75/75 [==============================] - 0s 7ms/step - loss: 0.3495 - accuracy: 0.8330 - val_loss: 0.3094 - val_accuracy: 0.8145\n",
            "Epoch 28/200\n"
          ]
        },
        {
          "name": "stdout",
          "output_type": "stream",
          "text": [
            "75/75 [==============================] - ETA: 0s - loss: 0.3434 - accuracy: 0.8317\n",
            "Epoch 28: val_loss did not improve from 0.30938\n",
            "75/75 [==============================] - 0s 6ms/step - loss: 0.3434 - accuracy: 0.8317 - val_loss: 0.3110 - val_accuracy: 0.8145\n",
            "Epoch 29/200\n",
            "71/75 [===========================>..] - ETA: 0s - loss: 0.3274 - accuracy: 0.8354\n",
            "Epoch 29: val_loss improved from 0.30938 to 0.30518, saving model to saved_models\\heart_sound_classification.hdf5\n",
            "75/75 [==============================] - 0s 6ms/step - loss: 0.3277 - accuracy: 0.8334 - val_loss: 0.3052 - val_accuracy: 0.8145\n",
            "Epoch 30/200\n",
            "73/75 [============================>.] - ETA: 0s - loss: 0.3258 - accuracy: 0.8322\n",
            "Epoch 30: val_loss improved from 0.30518 to 0.28956, saving model to saved_models\\heart_sound_classification.hdf5\n",
            "75/75 [==============================] - 0s 6ms/step - loss: 0.3261 - accuracy: 0.8317 - val_loss: 0.2896 - val_accuracy: 0.8145\n",
            "Epoch 31/200\n",
            "73/75 [============================>.] - ETA: 0s - loss: 0.3268 - accuracy: 0.8322\n",
            "Epoch 31: val_loss did not improve from 0.28956\n",
            "75/75 [==============================] - 0s 6ms/step - loss: 0.3259 - accuracy: 0.8321 - val_loss: 0.2910 - val_accuracy: 0.8145\n",
            "Epoch 32/200\n",
            "71/75 [===========================>..] - ETA: 0s - loss: 0.3254 - accuracy: 0.8354\n",
            "Epoch 32: val_loss did not improve from 0.28956\n",
            "75/75 [==============================] - 0s 6ms/step - loss: 0.3237 - accuracy: 0.8368 - val_loss: 0.2917 - val_accuracy: 0.8145\n",
            "Epoch 33/200\n",
            "71/75 [===========================>..] - ETA: 0s - loss: 0.3215 - accuracy: 0.8354\n",
            "Epoch 33: val_loss improved from 0.28956 to 0.28774, saving model to saved_models\\heart_sound_classification.hdf5\n",
            "75/75 [==============================] - 0s 6ms/step - loss: 0.3213 - accuracy: 0.8364 - val_loss: 0.2877 - val_accuracy: 0.8145\n",
            "Epoch 34/200\n",
            "73/75 [============================>.] - ETA: 0s - loss: 0.3151 - accuracy: 0.8382\n",
            "Epoch 34: val_loss did not improve from 0.28774\n",
            "75/75 [==============================] - 0s 6ms/step - loss: 0.3149 - accuracy: 0.8385 - val_loss: 0.2910 - val_accuracy: 0.8145\n",
            "Epoch 35/200\n",
            "74/75 [============================>.] - ETA: 0s - loss: 0.3341 - accuracy: 0.8429\n",
            "Epoch 35: val_loss improved from 0.28774 to 0.27111, saving model to saved_models\\heart_sound_classification.hdf5\n",
            "75/75 [==============================] - 0s 6ms/step - loss: 0.3343 - accuracy: 0.8427 - val_loss: 0.2711 - val_accuracy: 0.8212\n",
            "Epoch 36/200\n",
            "73/75 [============================>.] - ETA: 0s - loss: 0.3106 - accuracy: 0.8420\n",
            "Epoch 36: val_loss did not improve from 0.27111\n",
            "75/75 [==============================] - 0s 6ms/step - loss: 0.3109 - accuracy: 0.8418 - val_loss: 0.2716 - val_accuracy: 0.8398\n",
            "Epoch 37/200\n",
            "70/75 [===========================>..] - ETA: 0s - loss: 0.2971 - accuracy: 0.8451\n",
            "Epoch 37: val_loss did not improve from 0.27111\n",
            "75/75 [==============================] - 0s 6ms/step - loss: 0.3006 - accuracy: 0.8423 - val_loss: 0.2741 - val_accuracy: 0.8297\n",
            "Epoch 38/200\n",
            "71/75 [===========================>..] - ETA: 0s - loss: 0.2945 - accuracy: 0.8460\n",
            "Epoch 38: val_loss improved from 0.27111 to 0.25953, saving model to saved_models\\heart_sound_classification.hdf5\n",
            "75/75 [==============================] - 0s 6ms/step - loss: 0.2928 - accuracy: 0.8469 - val_loss: 0.2595 - val_accuracy: 0.8567\n",
            "Epoch 39/200\n",
            "72/75 [===========================>..] - ETA: 0s - loss: 0.3011 - accuracy: 0.8416\n",
            "Epoch 39: val_loss improved from 0.25953 to 0.25933, saving model to saved_models\\heart_sound_classification.hdf5\n",
            "75/75 [==============================] - 0s 6ms/step - loss: 0.3005 - accuracy: 0.8414 - val_loss: 0.2593 - val_accuracy: 0.8752\n",
            "Epoch 40/200\n",
            "73/75 [============================>.] - ETA: 0s - loss: 0.3021 - accuracy: 0.8553\n",
            "Epoch 40: val_loss did not improve from 0.25933\n",
            "75/75 [==============================] - 0s 6ms/step - loss: 0.3039 - accuracy: 0.8553 - val_loss: 0.2726 - val_accuracy: 0.8870\n",
            "Epoch 41/200\n",
            "71/75 [===========================>..] - ETA: 0s - loss: 0.3015 - accuracy: 0.8385\n",
            "Epoch 41: val_loss did not improve from 0.25933\n",
            "75/75 [==============================] - 0s 6ms/step - loss: 0.3005 - accuracy: 0.8380 - val_loss: 0.2610 - val_accuracy: 0.8297\n",
            "Epoch 42/200\n",
            "75/75 [==============================] - ETA: 0s - loss: 0.2849 - accuracy: 0.8503\n",
            "Epoch 42: val_loss improved from 0.25933 to 0.25533, saving model to saved_models\\heart_sound_classification.hdf5\n",
            "75/75 [==============================] - 0s 7ms/step - loss: 0.2849 - accuracy: 0.8503 - val_loss: 0.2553 - val_accuracy: 0.8685\n",
            "Epoch 43/200\n",
            "73/75 [============================>.] - ETA: 0s - loss: 0.2820 - accuracy: 0.8613\n",
            "Epoch 43: val_loss did not improve from 0.25533\n",
            "75/75 [==============================] - 0s 6ms/step - loss: 0.2830 - accuracy: 0.8596 - val_loss: 0.2580 - val_accuracy: 0.8651\n",
            "Epoch 44/200\n",
            "72/75 [===========================>..] - ETA: 0s - loss: 0.2878 - accuracy: 0.8581\n",
            "Epoch 44: val_loss improved from 0.25533 to 0.24277, saving model to saved_models\\heart_sound_classification.hdf5\n",
            "75/75 [==============================] - 0s 6ms/step - loss: 0.2895 - accuracy: 0.8583 - val_loss: 0.2428 - val_accuracy: 0.8938\n",
            "Epoch 45/200\n",
            "72/75 [===========================>..] - ETA: 0s - loss: 0.2872 - accuracy: 0.8694\n",
            "Epoch 45: val_loss improved from 0.24277 to 0.23778, saving model to saved_models\\heart_sound_classification.hdf5\n",
            "75/75 [==============================] - 0s 6ms/step - loss: 0.2864 - accuracy: 0.8701 - val_loss: 0.2378 - val_accuracy: 0.9089\n",
            "Epoch 46/200\n",
            "72/75 [===========================>..] - ETA: 0s - loss: 0.2818 - accuracy: 0.8633\n",
            "Epoch 46: val_loss improved from 0.23778 to 0.23430, saving model to saved_models\\heart_sound_classification.hdf5\n",
            "75/75 [==============================] - 0s 6ms/step - loss: 0.2833 - accuracy: 0.8621 - val_loss: 0.2343 - val_accuracy: 0.9089\n",
            "Epoch 47/200\n",
            "72/75 [===========================>..] - ETA: 0s - loss: 0.2852 - accuracy: 0.8620\n",
            "Epoch 47: val_loss did not improve from 0.23430\n",
            "75/75 [==============================] - 0s 6ms/step - loss: 0.2829 - accuracy: 0.8625 - val_loss: 0.2354 - val_accuracy: 0.9005\n",
            "Epoch 48/200\n",
            "72/75 [===========================>..] - ETA: 0s - loss: 0.2815 - accuracy: 0.8650\n",
            "Epoch 48: val_loss did not improve from 0.23430\n",
            "75/75 [==============================] - 0s 6ms/step - loss: 0.2807 - accuracy: 0.8642 - val_loss: 0.2509 - val_accuracy: 0.8516\n",
            "Epoch 49/200\n",
            "72/75 [===========================>..] - ETA: 0s - loss: 0.2708 - accuracy: 0.8715\n",
            "Epoch 49: val_loss did not improve from 0.23430\n",
            "75/75 [==============================] - 0s 6ms/step - loss: 0.2688 - accuracy: 0.8726 - val_loss: 0.2616 - val_accuracy: 0.8685\n",
            "Epoch 50/200\n",
            "73/75 [============================>.] - ETA: 0s - loss: 0.2930 - accuracy: 0.8754\n",
            "Epoch 50: val_loss did not improve from 0.23430\n",
            "75/75 [==============================] - 0s 6ms/step - loss: 0.2940 - accuracy: 0.8752 - val_loss: 0.2426 - val_accuracy: 0.8988\n",
            "Epoch 51/200\n",
            "73/75 [============================>.] - ETA: 0s - loss: 0.2687 - accuracy: 0.8866\n",
            "Epoch 51: val_loss improved from 0.23430 to 0.21567, saving model to saved_models\\heart_sound_classification.hdf5\n",
            "75/75 [==============================] - 0s 6ms/step - loss: 0.2668 - accuracy: 0.8870 - val_loss: 0.2157 - val_accuracy: 0.9359\n",
            "Epoch 52/200\n",
            "72/75 [===========================>..] - ETA: 0s - loss: 0.2755 - accuracy: 0.8720\n",
            "Epoch 52: val_loss did not improve from 0.21567\n",
            "75/75 [==============================] - 0s 6ms/step - loss: 0.2739 - accuracy: 0.8722 - val_loss: 0.2369 - val_accuracy: 0.8971\n",
            "Epoch 53/200\n",
            "64/75 [========================>.....] - ETA: 0s - loss: 0.2630 - accuracy: 0.8745\n",
            "Epoch 53: val_loss did not improve from 0.21567\n",
            "75/75 [==============================] - 0s 6ms/step - loss: 0.2682 - accuracy: 0.8697 - val_loss: 0.2315 - val_accuracy: 0.9325\n",
            "Epoch 54/200\n",
            "63/75 [========================>.....] - ETA: 0s - loss: 0.2985 - accuracy: 0.8636\n",
            "Epoch 54: val_loss did not improve from 0.21567\n",
            "75/75 [==============================] - 0s 6ms/step - loss: 0.2899 - accuracy: 0.8667 - val_loss: 0.2371 - val_accuracy: 0.8904\n",
            "Epoch 55/200\n",
            "74/75 [============================>.] - ETA: 0s - loss: 0.2771 - accuracy: 0.8704\n",
            "Epoch 55: val_loss did not improve from 0.21567\n"
          ]
        },
        {
          "name": "stdout",
          "output_type": "stream",
          "text": [
            "75/75 [==============================] - 0s 6ms/step - loss: 0.2769 - accuracy: 0.8705 - val_loss: 0.2455 - val_accuracy: 0.8786\n",
            "Epoch 56/200\n",
            "72/75 [===========================>..] - ETA: 0s - loss: 0.2817 - accuracy: 0.8663\n",
            "Epoch 56: val_loss did not improve from 0.21567\n",
            "75/75 [==============================] - 0s 6ms/step - loss: 0.2811 - accuracy: 0.8684 - val_loss: 0.2255 - val_accuracy: 0.9275\n",
            "Epoch 57/200\n",
            "70/75 [===========================>..] - ETA: 0s - loss: 0.2799 - accuracy: 0.8763\n",
            "Epoch 57: val_loss did not improve from 0.21567\n",
            "75/75 [==============================] - 0s 6ms/step - loss: 0.2744 - accuracy: 0.8790 - val_loss: 0.2199 - val_accuracy: 0.9089\n",
            "Epoch 58/200\n",
            "71/75 [===========================>..] - ETA: 0s - loss: 0.2681 - accuracy: 0.8798\n",
            "Epoch 58: val_loss did not improve from 0.21567\n",
            "75/75 [==============================] - 0s 6ms/step - loss: 0.2666 - accuracy: 0.8802 - val_loss: 0.2179 - val_accuracy: 0.9056\n",
            "Epoch 59/200\n",
            "69/75 [==========================>...] - ETA: 0s - loss: 0.2704 - accuracy: 0.8718\n",
            "Epoch 59: val_loss did not improve from 0.21567\n",
            "75/75 [==============================] - 0s 6ms/step - loss: 0.2731 - accuracy: 0.8718 - val_loss: 0.2320 - val_accuracy: 0.9275\n",
            "Epoch 60/200\n",
            "71/75 [===========================>..] - ETA: 0s - loss: 0.2787 - accuracy: 0.8728\n",
            "Epoch 60: val_loss did not improve from 0.21567\n",
            "75/75 [==============================] - 0s 6ms/step - loss: 0.2782 - accuracy: 0.8743 - val_loss: 0.2276 - val_accuracy: 0.9241\n",
            "Epoch 61/200\n",
            "73/75 [============================>.] - ETA: 0s - loss: 0.2635 - accuracy: 0.8831\n",
            "Epoch 61: val_loss did not improve from 0.21567\n",
            "75/75 [==============================] - 0s 6ms/step - loss: 0.2612 - accuracy: 0.8849 - val_loss: 0.2199 - val_accuracy: 0.9292\n",
            "Epoch 62/200\n",
            "69/75 [==========================>...] - ETA: 0s - loss: 0.2647 - accuracy: 0.8791\n",
            "Epoch 62: val_loss improved from 0.21567 to 0.21532, saving model to saved_models\\heart_sound_classification.hdf5\n",
            "75/75 [==============================] - 0s 7ms/step - loss: 0.2642 - accuracy: 0.8798 - val_loss: 0.2153 - val_accuracy: 0.9292\n",
            "Epoch 63/200\n",
            "67/75 [=========================>....] - ETA: 0s - loss: 0.2559 - accuracy: 0.8965\n",
            "Epoch 63: val_loss did not improve from 0.21532\n",
            "75/75 [==============================] - 1s 8ms/step - loss: 0.2572 - accuracy: 0.8954 - val_loss: 0.2215 - val_accuracy: 0.8971\n",
            "Epoch 64/200\n",
            "73/75 [============================>.] - ETA: 0s - loss: 0.2642 - accuracy: 0.8883\n",
            "Epoch 64: val_loss did not improve from 0.21532\n",
            "75/75 [==============================] - 0s 6ms/step - loss: 0.2660 - accuracy: 0.8878 - val_loss: 0.2260 - val_accuracy: 0.8988\n",
            "Epoch 65/200\n",
            "73/75 [============================>.] - ETA: 0s - loss: 0.2766 - accuracy: 0.8780\n",
            "Epoch 65: val_loss did not improve from 0.21532\n",
            "75/75 [==============================] - 0s 6ms/step - loss: 0.2764 - accuracy: 0.8777 - val_loss: 0.2397 - val_accuracy: 0.9073\n",
            "Epoch 66/200\n",
            "70/75 [===========================>..] - ETA: 0s - loss: 0.2778 - accuracy: 0.8772\n",
            "Epoch 66: val_loss improved from 0.21532 to 0.20589, saving model to saved_models\\heart_sound_classification.hdf5\n",
            "75/75 [==============================] - 0s 6ms/step - loss: 0.2731 - accuracy: 0.8798 - val_loss: 0.2059 - val_accuracy: 0.9427\n",
            "Epoch 67/200\n",
            "67/75 [=========================>....] - ETA: 0s - loss: 0.2745 - accuracy: 0.8853\n",
            "Epoch 67: val_loss did not improve from 0.20589\n",
            "75/75 [==============================] - 0s 6ms/step - loss: 0.2712 - accuracy: 0.8882 - val_loss: 0.2501 - val_accuracy: 0.8921\n",
            "Epoch 68/200\n",
            "71/75 [===========================>..] - ETA: 0s - loss: 0.2594 - accuracy: 0.8957\n",
            "Epoch 68: val_loss did not improve from 0.20589\n",
            "75/75 [==============================] - 0s 6ms/step - loss: 0.2571 - accuracy: 0.8967 - val_loss: 0.2241 - val_accuracy: 0.9224\n",
            "Epoch 69/200\n",
            "71/75 [===========================>..] - ETA: 0s - loss: 0.2659 - accuracy: 0.8860\n",
            "Epoch 69: val_loss did not improve from 0.20589\n",
            "75/75 [==============================] - 0s 6ms/step - loss: 0.2657 - accuracy: 0.8857 - val_loss: 0.2198 - val_accuracy: 0.9241\n",
            "Epoch 70/200\n",
            "65/75 [=========================>....] - ETA: 0s - loss: 0.2622 - accuracy: 0.8861\n",
            "Epoch 70: val_loss did not improve from 0.20589\n",
            "75/75 [==============================] - 0s 6ms/step - loss: 0.2684 - accuracy: 0.8823 - val_loss: 0.2132 - val_accuracy: 0.9359\n",
            "Epoch 71/200\n",
            "72/75 [===========================>..] - ETA: 0s - loss: 0.2671 - accuracy: 0.8889\n",
            "Epoch 71: val_loss did not improve from 0.20589\n",
            "75/75 [==============================] - 0s 6ms/step - loss: 0.2683 - accuracy: 0.8887 - val_loss: 0.2212 - val_accuracy: 0.9207\n",
            "Epoch 72/200\n",
            "71/75 [===========================>..] - ETA: 0s - loss: 0.2677 - accuracy: 0.8834\n",
            "Epoch 72: val_loss did not improve from 0.20589\n",
            "75/75 [==============================] - 0s 6ms/step - loss: 0.2686 - accuracy: 0.8806 - val_loss: 0.2242 - val_accuracy: 0.9207\n",
            "Epoch 73/200\n",
            "73/75 [============================>.] - ETA: 0s - loss: 0.2672 - accuracy: 0.8904\n",
            "Epoch 73: val_loss did not improve from 0.20589\n",
            "75/75 [==============================] - 0s 6ms/step - loss: 0.2675 - accuracy: 0.8916 - val_loss: 0.2066 - val_accuracy: 0.9224\n",
            "Epoch 74/200\n",
            "69/75 [==========================>...] - ETA: 0s - loss: 0.2583 - accuracy: 0.8904\n",
            "Epoch 74: val_loss did not improve from 0.20589\n",
            "75/75 [==============================] - 0s 6ms/step - loss: 0.2625 - accuracy: 0.8891 - val_loss: 0.2348 - val_accuracy: 0.9275\n",
            "Epoch 75/200\n",
            "69/75 [==========================>...] - ETA: 0s - loss: 0.2560 - accuracy: 0.8913\n",
            "Epoch 75: val_loss did not improve from 0.20589\n",
            "75/75 [==============================] - 0s 6ms/step - loss: 0.2549 - accuracy: 0.8912 - val_loss: 0.2084 - val_accuracy: 0.9325\n",
            "Epoch 76/200\n",
            "65/75 [=========================>....] - ETA: 0s - loss: 0.2553 - accuracy: 0.8962\n",
            "Epoch 76: val_loss did not improve from 0.20589\n",
            "75/75 [==============================] - 0s 6ms/step - loss: 0.2572 - accuracy: 0.8933 - val_loss: 0.2101 - val_accuracy: 0.9359\n",
            "Epoch 77/200\n",
            "65/75 [=========================>....] - ETA: 0s - loss: 0.2724 - accuracy: 0.8861\n",
            "Epoch 77: val_loss did not improve from 0.20589\n",
            "75/75 [==============================] - 0s 6ms/step - loss: 0.2716 - accuracy: 0.8849 - val_loss: 0.2359 - val_accuracy: 0.9073\n",
            "Epoch 78/200\n",
            "74/75 [============================>.] - ETA: 0s - loss: 0.2633 - accuracy: 0.8860\n",
            "Epoch 78: val_loss did not improve from 0.20589\n",
            "75/75 [==============================] - 0s 6ms/step - loss: 0.2640 - accuracy: 0.8853 - val_loss: 0.2082 - val_accuracy: 0.9342\n",
            "Epoch 79/200\n",
            "74/75 [============================>.] - ETA: 0s - loss: 0.2688 - accuracy: 0.8856\n",
            "Epoch 79: val_loss did not improve from 0.20589\n",
            "75/75 [==============================] - 0s 6ms/step - loss: 0.2684 - accuracy: 0.8857 - val_loss: 0.2153 - val_accuracy: 0.9258\n",
            "Epoch 80/200\n",
            "63/75 [========================>.....] - ETA: 0s - loss: 0.2575 - accuracy: 0.9003\n",
            "Epoch 80: val_loss did not improve from 0.20589\n",
            "75/75 [==============================] - 0s 6ms/step - loss: 0.2494 - accuracy: 0.9043 - val_loss: 0.2125 - val_accuracy: 0.9140\n",
            "Epoch 81/200\n",
            "71/75 [===========================>..] - ETA: 0s - loss: 0.2563 - accuracy: 0.8922\n",
            "Epoch 81: val_loss did not improve from 0.20589\n",
            "75/75 [==============================] - 0s 6ms/step - loss: 0.2644 - accuracy: 0.8903 - val_loss: 0.2131 - val_accuracy: 0.9359\n",
            "Epoch 82/200\n",
            "74/75 [============================>.] - ETA: 0s - loss: 0.2580 - accuracy: 0.8889\n",
            "Epoch 82: val_loss did not improve from 0.20589\n",
            "75/75 [==============================] - 0s 6ms/step - loss: 0.2578 - accuracy: 0.8891 - val_loss: 0.2263 - val_accuracy: 0.9275\n",
            "Epoch 83/200\n",
            "68/75 [==========================>...] - ETA: 0s - loss: 0.2526 - accuracy: 0.8897\n",
            "Epoch 83: val_loss did not improve from 0.20589\n",
            "75/75 [==============================] - 0s 6ms/step - loss: 0.2476 - accuracy: 0.8929 - val_loss: 0.2164 - val_accuracy: 0.9258\n",
            "Epoch 84/200\n",
            "72/75 [===========================>..] - ETA: 0s - loss: 0.2450 - accuracy: 0.8980\n",
            "Epoch 84: val_loss did not improve from 0.20589\n",
            "75/75 [==============================] - 0s 6ms/step - loss: 0.2460 - accuracy: 0.8984 - val_loss: 0.2202 - val_accuracy: 0.9275\n",
            "Epoch 85/200\n"
          ]
        },
        {
          "name": "stdout",
          "output_type": "stream",
          "text": [
            "71/75 [===========================>..] - ETA: 0s - loss: 0.2430 - accuracy: 0.9049\n",
            "Epoch 85: val_loss did not improve from 0.20589\n",
            "75/75 [==============================] - 0s 6ms/step - loss: 0.2450 - accuracy: 0.9034 - val_loss: 0.2145 - val_accuracy: 0.9342\n",
            "Epoch 86/200\n",
            "69/75 [==========================>...] - ETA: 0s - loss: 0.2381 - accuracy: 0.8967\n",
            "Epoch 86: val_loss did not improve from 0.20589\n",
            "75/75 [==============================] - 0s 6ms/step - loss: 0.2369 - accuracy: 0.8971 - val_loss: 0.2242 - val_accuracy: 0.9157\n",
            "Epoch 87/200\n",
            "67/75 [=========================>....] - ETA: 0s - loss: 0.2784 - accuracy: 0.8797\n",
            "Epoch 87: val_loss did not improve from 0.20589\n",
            "75/75 [==============================] - 0s 6ms/step - loss: 0.2756 - accuracy: 0.8819 - val_loss: 0.2297 - val_accuracy: 0.9191\n",
            "Epoch 88/200\n",
            "75/75 [==============================] - ETA: 0s - loss: 0.2429 - accuracy: 0.8933\n",
            "Epoch 88: val_loss improved from 0.20589 to 0.20340, saving model to saved_models\\heart_sound_classification.hdf5\n",
            "75/75 [==============================] - 1s 7ms/step - loss: 0.2429 - accuracy: 0.8933 - val_loss: 0.2034 - val_accuracy: 0.9393\n",
            "Epoch 89/200\n",
            "71/75 [===========================>..] - ETA: 0s - loss: 0.2521 - accuracy: 0.8966\n",
            "Epoch 89: val_loss did not improve from 0.20340\n",
            "75/75 [==============================] - 0s 6ms/step - loss: 0.2503 - accuracy: 0.8975 - val_loss: 0.2294 - val_accuracy: 0.9292\n",
            "Epoch 90/200\n",
            "71/75 [===========================>..] - ETA: 0s - loss: 0.2578 - accuracy: 0.8979\n",
            "Epoch 90: val_loss did not improve from 0.20340\n",
            "75/75 [==============================] - 0s 6ms/step - loss: 0.2548 - accuracy: 0.8992 - val_loss: 0.2139 - val_accuracy: 0.9275\n",
            "Epoch 91/200\n",
            "69/75 [==========================>...] - ETA: 0s - loss: 0.2534 - accuracy: 0.8936\n",
            "Epoch 91: val_loss did not improve from 0.20340\n",
            "75/75 [==============================] - 0s 6ms/step - loss: 0.2501 - accuracy: 0.8958 - val_loss: 0.2109 - val_accuracy: 0.9241\n",
            "Epoch 92/200\n",
            "70/75 [===========================>..] - ETA: 0s - loss: 0.2442 - accuracy: 0.9004\n",
            "Epoch 92: val_loss did not improve from 0.20340\n",
            "75/75 [==============================] - 0s 6ms/step - loss: 0.2415 - accuracy: 0.9013 - val_loss: 0.2103 - val_accuracy: 0.9342\n",
            "Epoch 93/200\n",
            "70/75 [===========================>..] - ETA: 0s - loss: 0.2449 - accuracy: 0.9094\n",
            "Epoch 93: val_loss did not improve from 0.20340\n",
            "75/75 [==============================] - 0s 6ms/step - loss: 0.2447 - accuracy: 0.9089 - val_loss: 0.2077 - val_accuracy: 0.9376\n",
            "Epoch 94/200\n",
            "70/75 [===========================>..] - ETA: 0s - loss: 0.2340 - accuracy: 0.8991\n",
            "Epoch 94: val_loss did not improve from 0.20340\n",
            "75/75 [==============================] - 0s 6ms/step - loss: 0.2334 - accuracy: 0.8996 - val_loss: 0.2063 - val_accuracy: 0.9410\n",
            "Epoch 95/200\n",
            "68/75 [==========================>...] - ETA: 0s - loss: 0.2310 - accuracy: 0.9062\n",
            "Epoch 95: val_loss improved from 0.20340 to 0.19117, saving model to saved_models\\heart_sound_classification.hdf5\n",
            "75/75 [==============================] - 0s 6ms/step - loss: 0.2324 - accuracy: 0.9051 - val_loss: 0.1912 - val_accuracy: 0.9427\n",
            "Epoch 96/200\n",
            "72/75 [===========================>..] - ETA: 0s - loss: 0.2350 - accuracy: 0.9058\n",
            "Epoch 96: val_loss did not improve from 0.19117\n",
            "75/75 [==============================] - 0s 6ms/step - loss: 0.2324 - accuracy: 0.9076 - val_loss: 0.2180 - val_accuracy: 0.9393\n",
            "Epoch 97/200\n",
            "75/75 [==============================] - ETA: 0s - loss: 0.2482 - accuracy: 0.9005\n",
            "Epoch 97: val_loss did not improve from 0.19117\n",
            "75/75 [==============================] - 0s 6ms/step - loss: 0.2482 - accuracy: 0.9005 - val_loss: 0.2282 - val_accuracy: 0.9325\n",
            "Epoch 98/200\n",
            "71/75 [===========================>..] - ETA: 0s - loss: 0.2386 - accuracy: 0.9005\n",
            "Epoch 98: val_loss did not improve from 0.19117\n",
            "75/75 [==============================] - 0s 6ms/step - loss: 0.2392 - accuracy: 0.9017 - val_loss: 0.1979 - val_accuracy: 0.9376\n",
            "Epoch 99/200\n",
            "71/75 [===========================>..] - ETA: 0s - loss: 0.2300 - accuracy: 0.9067\n",
            "Epoch 99: val_loss did not improve from 0.19117\n",
            "75/75 [==============================] - 0s 6ms/step - loss: 0.2279 - accuracy: 0.9068 - val_loss: 0.2222 - val_accuracy: 0.9393\n",
            "Epoch 100/200\n",
            "71/75 [===========================>..] - ETA: 0s - loss: 0.2547 - accuracy: 0.8996\n",
            "Epoch 100: val_loss did not improve from 0.19117\n",
            "75/75 [==============================] - 0s 6ms/step - loss: 0.2502 - accuracy: 0.9017 - val_loss: 0.2064 - val_accuracy: 0.9359\n",
            "Epoch 101/200\n",
            "71/75 [===========================>..] - ETA: 0s - loss: 0.2436 - accuracy: 0.9067\n",
            "Epoch 101: val_loss did not improve from 0.19117\n",
            "75/75 [==============================] - 0s 6ms/step - loss: 0.2422 - accuracy: 0.9068 - val_loss: 0.2094 - val_accuracy: 0.9342\n",
            "Epoch 102/200\n",
            "68/75 [==========================>...] - ETA: 0s - loss: 0.2453 - accuracy: 0.8971\n",
            "Epoch 102: val_loss improved from 0.19117 to 0.18847, saving model to saved_models\\heart_sound_classification.hdf5\n",
            "75/75 [==============================] - 0s 6ms/step - loss: 0.2424 - accuracy: 0.9000 - val_loss: 0.1885 - val_accuracy: 0.9393\n",
            "Epoch 103/200\n",
            "65/75 [=========================>....] - ETA: 0s - loss: 0.2370 - accuracy: 0.9038\n",
            "Epoch 103: val_loss did not improve from 0.18847\n",
            "75/75 [==============================] - 0s 6ms/step - loss: 0.2365 - accuracy: 0.9064 - val_loss: 0.1942 - val_accuracy: 0.9427\n",
            "Epoch 104/200\n",
            "73/75 [============================>.] - ETA: 0s - loss: 0.2321 - accuracy: 0.9071\n",
            "Epoch 104: val_loss did not improve from 0.18847\n",
            "75/75 [==============================] - 0s 6ms/step - loss: 0.2345 - accuracy: 0.9072 - val_loss: 0.2040 - val_accuracy: 0.9325\n",
            "Epoch 105/200\n",
            "72/75 [===========================>..] - ETA: 0s - loss: 0.2318 - accuracy: 0.9062\n",
            "Epoch 105: val_loss did not improve from 0.18847\n",
            "75/75 [==============================] - 0s 6ms/step - loss: 0.2335 - accuracy: 0.9043 - val_loss: 0.1894 - val_accuracy: 0.9376\n",
            "Epoch 106/200\n",
            "72/75 [===========================>..] - ETA: 0s - loss: 0.2454 - accuracy: 0.9019\n",
            "Epoch 106: val_loss did not improve from 0.18847\n",
            "75/75 [==============================] - 0s 6ms/step - loss: 0.2444 - accuracy: 0.9026 - val_loss: 0.1978 - val_accuracy: 0.9393\n",
            "Epoch 107/200\n",
            "70/75 [===========================>..] - ETA: 0s - loss: 0.2400 - accuracy: 0.8973\n",
            "Epoch 107: val_loss did not improve from 0.18847\n",
            "75/75 [==============================] - 0s 6ms/step - loss: 0.2403 - accuracy: 0.8971 - val_loss: 0.1975 - val_accuracy: 0.9376\n",
            "Epoch 108/200\n",
            "71/75 [===========================>..] - ETA: 0s - loss: 0.2509 - accuracy: 0.8992\n",
            "Epoch 108: val_loss did not improve from 0.18847\n",
            "75/75 [==============================] - 0s 6ms/step - loss: 0.2497 - accuracy: 0.9000 - val_loss: 0.2384 - val_accuracy: 0.9292\n",
            "Epoch 109/200\n",
            "70/75 [===========================>..] - ETA: 0s - loss: 0.2328 - accuracy: 0.9000\n",
            "Epoch 109: val_loss improved from 0.18847 to 0.18423, saving model to saved_models\\heart_sound_classification.hdf5\n",
            "75/75 [==============================] - 0s 6ms/step - loss: 0.2308 - accuracy: 0.8996 - val_loss: 0.1842 - val_accuracy: 0.9410\n",
            "Epoch 110/200\n",
            "73/75 [============================>.] - ETA: 0s - loss: 0.2310 - accuracy: 0.9080\n",
            "Epoch 110: val_loss improved from 0.18423 to 0.18248, saving model to saved_models\\heart_sound_classification.hdf5\n",
            "75/75 [==============================] - 0s 6ms/step - loss: 0.2302 - accuracy: 0.9085 - val_loss: 0.1825 - val_accuracy: 0.9393\n",
            "Epoch 111/200\n",
            "75/75 [==============================] - ETA: 0s - loss: 0.2338 - accuracy: 0.9055\n",
            "Epoch 111: val_loss did not improve from 0.18248\n",
            "75/75 [==============================] - 0s 6ms/step - loss: 0.2338 - accuracy: 0.9055 - val_loss: 0.1928 - val_accuracy: 0.9342\n",
            "Epoch 112/200\n",
            "74/75 [============================>.] - ETA: 0s - loss: 0.2440 - accuracy: 0.8957\n",
            "Epoch 112: val_loss did not improve from 0.18248\n",
            "75/75 [==============================] - 0s 6ms/step - loss: 0.2438 - accuracy: 0.8958 - val_loss: 0.1896 - val_accuracy: 0.9393\n",
            "Epoch 113/200\n",
            "69/75 [==========================>...] - ETA: 0s - loss: 0.2291 - accuracy: 0.9022\n",
            "Epoch 113: val_loss did not improve from 0.18248\n",
            "75/75 [==============================] - 0s 6ms/step - loss: 0.2299 - accuracy: 0.9013 - val_loss: 0.1860 - val_accuracy: 0.9410\n"
          ]
        },
        {
          "name": "stdout",
          "output_type": "stream",
          "text": [
            "Epoch 114/200\n",
            "71/75 [===========================>..] - ETA: 0s - loss: 0.2273 - accuracy: 0.9071\n",
            "Epoch 114: val_loss did not improve from 0.18248\n",
            "75/75 [==============================] - 0s 6ms/step - loss: 0.2283 - accuracy: 0.9059 - val_loss: 0.1964 - val_accuracy: 0.9376\n",
            "Epoch 115/200\n",
            "71/75 [===========================>..] - ETA: 0s - loss: 0.2359 - accuracy: 0.9089\n",
            "Epoch 115: val_loss did not improve from 0.18248\n",
            "75/75 [==============================] - 0s 6ms/step - loss: 0.2368 - accuracy: 0.9089 - val_loss: 0.1854 - val_accuracy: 0.9410\n",
            "Epoch 116/200\n",
            "72/75 [===========================>..] - ETA: 0s - loss: 0.2399 - accuracy: 0.9023\n",
            "Epoch 116: val_loss did not improve from 0.18248\n",
            "75/75 [==============================] - 0s 6ms/step - loss: 0.2405 - accuracy: 0.9026 - val_loss: 0.2076 - val_accuracy: 0.9393\n",
            "Epoch 117/200\n",
            "71/75 [===========================>..] - ETA: 0s - loss: 0.2373 - accuracy: 0.9040\n",
            "Epoch 117: val_loss did not improve from 0.18248\n",
            "75/75 [==============================] - 0s 6ms/step - loss: 0.2385 - accuracy: 0.9043 - val_loss: 0.2008 - val_accuracy: 0.9309\n",
            "Epoch 118/200\n",
            "72/75 [===========================>..] - ETA: 0s - loss: 0.2258 - accuracy: 0.9080\n",
            "Epoch 118: val_loss did not improve from 0.18248\n",
            "75/75 [==============================] - 1s 8ms/step - loss: 0.2244 - accuracy: 0.9093 - val_loss: 0.2070 - val_accuracy: 0.9241\n",
            "Epoch 119/200\n",
            "69/75 [==========================>...] - ETA: 0s - loss: 0.2471 - accuracy: 0.8999\n",
            "Epoch 119: val_loss did not improve from 0.18248\n",
            "75/75 [==============================] - 0s 6ms/step - loss: 0.2440 - accuracy: 0.9005 - val_loss: 0.1961 - val_accuracy: 0.9325\n",
            "Epoch 120/200\n",
            "69/75 [==========================>...] - ETA: 0s - loss: 0.2390 - accuracy: 0.9031\n",
            "Epoch 120: val_loss did not improve from 0.18248\n",
            "75/75 [==============================] - 0s 6ms/step - loss: 0.2333 - accuracy: 0.9043 - val_loss: 0.2066 - val_accuracy: 0.9224\n",
            "Epoch 121/200\n",
            "66/75 [=========================>....] - ETA: 0s - loss: 0.2337 - accuracy: 0.9062\n",
            "Epoch 121: val_loss did not improve from 0.18248\n",
            "75/75 [==============================] - 0s 6ms/step - loss: 0.2344 - accuracy: 0.9051 - val_loss: 0.2074 - val_accuracy: 0.9241\n",
            "Epoch 122/200\n",
            "72/75 [===========================>..] - ETA: 0s - loss: 0.2502 - accuracy: 0.9041\n",
            "Epoch 122: val_loss did not improve from 0.18248\n",
            "75/75 [==============================] - 0s 6ms/step - loss: 0.2493 - accuracy: 0.9047 - val_loss: 0.2075 - val_accuracy: 0.9309\n",
            "Epoch 123/200\n",
            "68/75 [==========================>...] - ETA: 0s - loss: 0.2109 - accuracy: 0.9196\n",
            "Epoch 123: val_loss did not improve from 0.18248\n",
            "75/75 [==============================] - 0s 6ms/step - loss: 0.2182 - accuracy: 0.9165 - val_loss: 0.1830 - val_accuracy: 0.9376\n",
            "Epoch 124/200\n",
            "68/75 [==========================>...] - ETA: 0s - loss: 0.2219 - accuracy: 0.9076\n",
            "Epoch 124: val_loss did not improve from 0.18248\n",
            "75/75 [==============================] - 0s 5ms/step - loss: 0.2192 - accuracy: 0.9089 - val_loss: 0.1834 - val_accuracy: 0.9376\n",
            "Epoch 125/200\n",
            "66/75 [=========================>....] - ETA: 0s - loss: 0.2320 - accuracy: 0.9077\n",
            "Epoch 125: val_loss did not improve from 0.18248\n",
            "75/75 [==============================] - 0s 5ms/step - loss: 0.2273 - accuracy: 0.9097 - val_loss: 0.2092 - val_accuracy: 0.9258\n",
            "Epoch 126/200\n",
            "73/75 [============================>.] - ETA: 0s - loss: 0.2335 - accuracy: 0.9080\n",
            "Epoch 126: val_loss did not improve from 0.18248\n",
            "75/75 [==============================] - 0s 6ms/step - loss: 0.2332 - accuracy: 0.9085 - val_loss: 0.2161 - val_accuracy: 0.9342\n",
            "Epoch 127/200\n",
            "71/75 [===========================>..] - ETA: 0s - loss: 0.2281 - accuracy: 0.9080\n",
            "Epoch 127: val_loss did not improve from 0.18248\n",
            "75/75 [==============================] - 0s 6ms/step - loss: 0.2289 - accuracy: 0.9081 - val_loss: 0.1993 - val_accuracy: 0.9393\n",
            "Epoch 128/200\n",
            "72/75 [===========================>..] - ETA: 0s - loss: 0.2291 - accuracy: 0.9054\n",
            "Epoch 128: val_loss did not improve from 0.18248\n",
            "75/75 [==============================] - 0s 6ms/step - loss: 0.2309 - accuracy: 0.9038 - val_loss: 0.1997 - val_accuracy: 0.9258\n",
            "Epoch 129/200\n",
            "71/75 [===========================>..] - ETA: 0s - loss: 0.2253 - accuracy: 0.9076\n",
            "Epoch 129: val_loss did not improve from 0.18248\n",
            "75/75 [==============================] - 0s 6ms/step - loss: 0.2264 - accuracy: 0.9064 - val_loss: 0.1949 - val_accuracy: 0.9376\n",
            "Epoch 130/200\n",
            "72/75 [===========================>..] - ETA: 0s - loss: 0.2213 - accuracy: 0.9076\n",
            "Epoch 130: val_loss did not improve from 0.18248\n",
            "75/75 [==============================] - 0s 6ms/step - loss: 0.2215 - accuracy: 0.9064 - val_loss: 0.1956 - val_accuracy: 0.9393\n",
            "Epoch 131/200\n",
            "74/75 [============================>.] - ETA: 0s - loss: 0.2285 - accuracy: 0.9067\n",
            "Epoch 131: val_loss did not improve from 0.18248\n",
            "75/75 [==============================] - 0s 6ms/step - loss: 0.2282 - accuracy: 0.9068 - val_loss: 0.1937 - val_accuracy: 0.9325\n",
            "Epoch 132/200\n",
            "72/75 [===========================>..] - ETA: 0s - loss: 0.2232 - accuracy: 0.9010\n",
            "Epoch 132: val_loss did not improve from 0.18248\n",
            "75/75 [==============================] - 0s 6ms/step - loss: 0.2227 - accuracy: 0.9022 - val_loss: 0.2070 - val_accuracy: 0.9393\n",
            "Epoch 133/200\n",
            "71/75 [===========================>..] - ETA: 0s - loss: 0.2312 - accuracy: 0.9089\n",
            "Epoch 133: val_loss did not improve from 0.18248\n",
            "75/75 [==============================] - 0s 6ms/step - loss: 0.2298 - accuracy: 0.9089 - val_loss: 0.1873 - val_accuracy: 0.9444\n",
            "Epoch 134/200\n",
            "70/75 [===========================>..] - ETA: 0s - loss: 0.2181 - accuracy: 0.9183\n",
            "Epoch 134: val_loss did not improve from 0.18248\n",
            "75/75 [==============================] - 0s 6ms/step - loss: 0.2189 - accuracy: 0.9165 - val_loss: 0.2012 - val_accuracy: 0.9410\n",
            "Epoch 135/200\n",
            "69/75 [==========================>...] - ETA: 0s - loss: 0.2277 - accuracy: 0.9112\n",
            "Epoch 135: val_loss did not improve from 0.18248\n",
            "75/75 [==============================] - 0s 6ms/step - loss: 0.2239 - accuracy: 0.9110 - val_loss: 0.1920 - val_accuracy: 0.9359\n",
            "Epoch 136/200\n",
            "72/75 [===========================>..] - ETA: 0s - loss: 0.2109 - accuracy: 0.9058\n",
            "Epoch 136: val_loss did not improve from 0.18248\n",
            "75/75 [==============================] - 0s 6ms/step - loss: 0.2186 - accuracy: 0.9043 - val_loss: 0.1953 - val_accuracy: 0.9325\n",
            "Epoch 137/200\n",
            "68/75 [==========================>...] - ETA: 0s - loss: 0.2260 - accuracy: 0.9113\n",
            "Epoch 137: val_loss did not improve from 0.18248\n",
            "75/75 [==============================] - 0s 6ms/step - loss: 0.2256 - accuracy: 0.9102 - val_loss: 0.1867 - val_accuracy: 0.9376\n",
            "Epoch 138/200\n",
            "67/75 [=========================>....] - ETA: 0s - loss: 0.2270 - accuracy: 0.9156\n",
            "Epoch 138: val_loss did not improve from 0.18248\n",
            "75/75 [==============================] - 0s 6ms/step - loss: 0.2255 - accuracy: 0.9156 - val_loss: 0.1931 - val_accuracy: 0.9309\n",
            "Epoch 139/200\n",
            "70/75 [===========================>..] - ETA: 0s - loss: 0.2410 - accuracy: 0.9103\n",
            "Epoch 139: val_loss did not improve from 0.18248\n",
            "75/75 [==============================] - 0s 6ms/step - loss: 0.2387 - accuracy: 0.9093 - val_loss: 0.1938 - val_accuracy: 0.9325\n",
            "Epoch 140/200\n",
            "68/75 [==========================>...] - ETA: 0s - loss: 0.2217 - accuracy: 0.9177\n",
            "Epoch 140: val_loss did not improve from 0.18248\n",
            "75/75 [==============================] - 0s 6ms/step - loss: 0.2206 - accuracy: 0.9178 - val_loss: 0.1833 - val_accuracy: 0.9376\n",
            "Epoch 141/200\n",
            "73/75 [============================>.] - ETA: 0s - loss: 0.2225 - accuracy: 0.9067\n",
            "Epoch 141: val_loss did not improve from 0.18248\n",
            "75/75 [==============================] - 0s 6ms/step - loss: 0.2223 - accuracy: 0.9068 - val_loss: 0.2080 - val_accuracy: 0.9191\n",
            "Epoch 142/200\n",
            "70/75 [===========================>..] - ETA: 0s - loss: 0.2215 - accuracy: 0.9129\n",
            "Epoch 142: val_loss did not improve from 0.18248\n",
            "75/75 [==============================] - 0s 6ms/step - loss: 0.2259 - accuracy: 0.9135 - val_loss: 0.1959 - val_accuracy: 0.9376\n",
            "Epoch 143/200\n",
            "70/75 [===========================>..] - ETA: 0s - loss: 0.2140 - accuracy: 0.9187\n",
            "Epoch 143: val_loss did not improve from 0.18248\n",
            "75/75 [==============================] - 0s 6ms/step - loss: 0.2209 - accuracy: 0.9140 - val_loss: 0.2170 - val_accuracy: 0.9309\n"
          ]
        },
        {
          "name": "stdout",
          "output_type": "stream",
          "text": [
            "Epoch 144/200\n",
            "68/75 [==========================>...] - ETA: 0s - loss: 0.2282 - accuracy: 0.9136\n",
            "Epoch 144: val_loss did not improve from 0.18248\n",
            "75/75 [==============================] - 0s 6ms/step - loss: 0.2284 - accuracy: 0.9119 - val_loss: 0.1968 - val_accuracy: 0.9410\n",
            "Epoch 145/200\n",
            "72/75 [===========================>..] - ETA: 0s - loss: 0.2296 - accuracy: 0.9084\n",
            "Epoch 145: val_loss did not improve from 0.18248\n",
            "75/75 [==============================] - 0s 6ms/step - loss: 0.2314 - accuracy: 0.9068 - val_loss: 0.2003 - val_accuracy: 0.9258\n",
            "Epoch 146/200\n",
            "71/75 [===========================>..] - ETA: 0s - loss: 0.2299 - accuracy: 0.9067\n",
            "Epoch 146: val_loss did not improve from 0.18248\n",
            "75/75 [==============================] - 0s 6ms/step - loss: 0.2276 - accuracy: 0.9076 - val_loss: 0.1895 - val_accuracy: 0.9393\n",
            "Epoch 147/200\n",
            "73/75 [============================>.] - ETA: 0s - loss: 0.2323 - accuracy: 0.9024\n",
            "Epoch 147: val_loss did not improve from 0.18248\n",
            "75/75 [==============================] - 0s 6ms/step - loss: 0.2325 - accuracy: 0.9026 - val_loss: 0.2026 - val_accuracy: 0.9157\n",
            "Epoch 148/200\n",
            "67/75 [=========================>....] - ETA: 0s - loss: 0.2176 - accuracy: 0.9128\n",
            "Epoch 148: val_loss did not improve from 0.18248\n",
            "75/75 [==============================] - 0s 6ms/step - loss: 0.2194 - accuracy: 0.9097 - val_loss: 0.2028 - val_accuracy: 0.9241\n",
            "Epoch 149/200\n",
            "70/75 [===========================>..] - ETA: 0s - loss: 0.2133 - accuracy: 0.9094\n",
            "Epoch 149: val_loss did not improve from 0.18248\n",
            "75/75 [==============================] - 0s 6ms/step - loss: 0.2143 - accuracy: 0.9085 - val_loss: 0.2009 - val_accuracy: 0.9325\n",
            "Epoch 150/200\n",
            "71/75 [===========================>..] - ETA: 0s - loss: 0.2108 - accuracy: 0.9107\n",
            "Epoch 150: val_loss improved from 0.18248 to 0.17324, saving model to saved_models\\heart_sound_classification.hdf5\n",
            "75/75 [==============================] - 0s 6ms/step - loss: 0.2128 - accuracy: 0.9102 - val_loss: 0.1732 - val_accuracy: 0.9393\n",
            "Epoch 151/200\n",
            "71/75 [===========================>..] - ETA: 0s - loss: 0.2192 - accuracy: 0.9098\n",
            "Epoch 151: val_loss did not improve from 0.17324\n",
            "75/75 [==============================] - 0s 6ms/step - loss: 0.2222 - accuracy: 0.9076 - val_loss: 0.2215 - val_accuracy: 0.9005\n",
            "Epoch 152/200\n",
            "68/75 [==========================>...] - ETA: 0s - loss: 0.2601 - accuracy: 0.8801\n",
            "Epoch 152: val_loss did not improve from 0.17324\n",
            "75/75 [==============================] - 0s 6ms/step - loss: 0.2584 - accuracy: 0.8811 - val_loss: 0.2239 - val_accuracy: 0.8971\n",
            "Epoch 153/200\n",
            "68/75 [==========================>...] - ETA: 0s - loss: 0.2160 - accuracy: 0.9044\n",
            "Epoch 153: val_loss did not improve from 0.17324\n",
            "75/75 [==============================] - 0s 6ms/step - loss: 0.2176 - accuracy: 0.9047 - val_loss: 0.2098 - val_accuracy: 0.9258\n",
            "Epoch 154/200\n",
            "68/75 [==========================>...] - ETA: 0s - loss: 0.2123 - accuracy: 0.9099\n",
            "Epoch 154: val_loss did not improve from 0.17324\n",
            "75/75 [==============================] - 0s 6ms/step - loss: 0.2222 - accuracy: 0.9072 - val_loss: 0.1949 - val_accuracy: 0.9309\n",
            "Epoch 155/200\n",
            "71/75 [===========================>..] - ETA: 0s - loss: 0.2193 - accuracy: 0.9080\n",
            "Epoch 155: val_loss did not improve from 0.17324\n",
            "75/75 [==============================] - 0s 6ms/step - loss: 0.2181 - accuracy: 0.9089 - val_loss: 0.2025 - val_accuracy: 0.9191\n",
            "Epoch 156/200\n",
            "69/75 [==========================>...] - ETA: 0s - loss: 0.2147 - accuracy: 0.9149\n",
            "Epoch 156: val_loss did not improve from 0.17324\n",
            "75/75 [==============================] - 0s 6ms/step - loss: 0.2152 - accuracy: 0.9152 - val_loss: 0.1830 - val_accuracy: 0.9359\n",
            "Epoch 157/200\n",
            "68/75 [==========================>...] - ETA: 0s - loss: 0.2224 - accuracy: 0.9081\n",
            "Epoch 157: val_loss did not improve from 0.17324\n",
            "75/75 [==============================] - 0s 6ms/step - loss: 0.2219 - accuracy: 0.9085 - val_loss: 0.1959 - val_accuracy: 0.9410\n",
            "Epoch 158/200\n",
            "70/75 [===========================>..] - ETA: 0s - loss: 0.2181 - accuracy: 0.9121\n",
            "Epoch 158: val_loss did not improve from 0.17324\n",
            "75/75 [==============================] - 0s 6ms/step - loss: 0.2166 - accuracy: 0.9127 - val_loss: 0.1934 - val_accuracy: 0.9309\n",
            "Epoch 159/200\n",
            "70/75 [===========================>..] - ETA: 0s - loss: 0.2275 - accuracy: 0.9036\n",
            "Epoch 159: val_loss did not improve from 0.17324\n",
            "75/75 [==============================] - 0s 6ms/step - loss: 0.2334 - accuracy: 0.9026 - val_loss: 0.1899 - val_accuracy: 0.9376\n",
            "Epoch 160/200\n",
            "72/75 [===========================>..] - ETA: 0s - loss: 0.2344 - accuracy: 0.9076\n",
            "Epoch 160: val_loss did not improve from 0.17324\n",
            "75/75 [==============================] - 0s 6ms/step - loss: 0.2333 - accuracy: 0.9072 - val_loss: 0.2049 - val_accuracy: 0.9292\n",
            "Epoch 161/200\n",
            "70/75 [===========================>..] - ETA: 0s - loss: 0.2273 - accuracy: 0.8996\n",
            "Epoch 161: val_loss did not improve from 0.17324\n",
            "75/75 [==============================] - 0s 6ms/step - loss: 0.2262 - accuracy: 0.9000 - val_loss: 0.1890 - val_accuracy: 0.9325\n",
            "Epoch 162/200\n",
            "72/75 [===========================>..] - ETA: 0s - loss: 0.2157 - accuracy: 0.9158\n",
            "Epoch 162: val_loss did not improve from 0.17324\n",
            "75/75 [==============================] - 0s 6ms/step - loss: 0.2149 - accuracy: 0.9161 - val_loss: 0.1914 - val_accuracy: 0.9359\n",
            "Epoch 163/200\n",
            "69/75 [==========================>...] - ETA: 0s - loss: 0.2225 - accuracy: 0.9117\n",
            "Epoch 163: val_loss did not improve from 0.17324\n",
            "75/75 [==============================] - 0s 6ms/step - loss: 0.2202 - accuracy: 0.9127 - val_loss: 0.1887 - val_accuracy: 0.9376\n",
            "Epoch 164/200\n",
            "71/75 [===========================>..] - ETA: 0s - loss: 0.2125 - accuracy: 0.9173\n",
            "Epoch 164: val_loss did not improve from 0.17324\n",
            "75/75 [==============================] - 0s 6ms/step - loss: 0.2115 - accuracy: 0.9178 - val_loss: 0.2019 - val_accuracy: 0.9258\n",
            "Epoch 165/200\n",
            "71/75 [===========================>..] - ETA: 0s - loss: 0.2163 - accuracy: 0.9093\n",
            "Epoch 165: val_loss did not improve from 0.17324\n",
            "75/75 [==============================] - 0s 6ms/step - loss: 0.2192 - accuracy: 0.9081 - val_loss: 0.2038 - val_accuracy: 0.9342\n",
            "Epoch 166/200\n",
            "73/75 [============================>.] - ETA: 0s - loss: 0.2238 - accuracy: 0.9062\n",
            "Epoch 166: val_loss did not improve from 0.17324\n",
            "75/75 [==============================] - 0s 6ms/step - loss: 0.2221 - accuracy: 0.9072 - val_loss: 0.1863 - val_accuracy: 0.9309\n",
            "Epoch 167/200\n",
            "70/75 [===========================>..] - ETA: 0s - loss: 0.2111 - accuracy: 0.9152\n",
            "Epoch 167: val_loss did not improve from 0.17324\n",
            "75/75 [==============================] - 0s 6ms/step - loss: 0.2087 - accuracy: 0.9152 - val_loss: 0.1920 - val_accuracy: 0.9292\n",
            "Epoch 168/200\n",
            "68/75 [==========================>...] - ETA: 0s - loss: 0.2126 - accuracy: 0.9154\n",
            "Epoch 168: val_loss did not improve from 0.17324\n",
            "75/75 [==============================] - 0s 6ms/step - loss: 0.2085 - accuracy: 0.9173 - val_loss: 0.1997 - val_accuracy: 0.9258\n",
            "Epoch 169/200\n",
            "73/75 [============================>.] - ETA: 0s - loss: 0.2225 - accuracy: 0.9084\n",
            "Epoch 169: val_loss did not improve from 0.17324\n",
            "75/75 [==============================] - 0s 6ms/step - loss: 0.2229 - accuracy: 0.9085 - val_loss: 0.2105 - val_accuracy: 0.9140\n",
            "Epoch 170/200\n",
            "73/75 [============================>.] - ETA: 0s - loss: 0.2152 - accuracy: 0.9161\n",
            "Epoch 170: val_loss did not improve from 0.17324\n",
            "75/75 [==============================] - 0s 6ms/step - loss: 0.2140 - accuracy: 0.9165 - val_loss: 0.1864 - val_accuracy: 0.9376\n",
            "Epoch 171/200\n",
            "71/75 [===========================>..] - ETA: 0s - loss: 0.2137 - accuracy: 0.9151\n",
            "Epoch 171: val_loss did not improve from 0.17324\n",
            "75/75 [==============================] - 0s 6ms/step - loss: 0.2105 - accuracy: 0.9165 - val_loss: 0.1959 - val_accuracy: 0.9359\n",
            "Epoch 172/200\n",
            "71/75 [===========================>..] - ETA: 0s - loss: 0.1990 - accuracy: 0.9243\n",
            "Epoch 172: val_loss did not improve from 0.17324\n",
            "75/75 [==============================] - 0s 6ms/step - loss: 0.1995 - accuracy: 0.9241 - val_loss: 0.1915 - val_accuracy: 0.9342\n",
            "Epoch 173/200\n",
            "71/75 [===========================>..] - ETA: 0s - loss: 0.2182 - accuracy: 0.9098\n",
            "Epoch 173: val_loss did not improve from 0.17324\n",
            "75/75 [==============================] - 0s 6ms/step - loss: 0.2181 - accuracy: 0.9110 - val_loss: 0.2034 - val_accuracy: 0.9224\n"
          ]
        },
        {
          "name": "stdout",
          "output_type": "stream",
          "text": [
            "Epoch 174/200\n",
            "65/75 [=========================>....] - ETA: 0s - loss: 0.2054 - accuracy: 0.9130\n",
            "Epoch 174: val_loss did not improve from 0.17324\n",
            "75/75 [==============================] - 0s 6ms/step - loss: 0.2055 - accuracy: 0.9161 - val_loss: 0.1793 - val_accuracy: 0.9359\n",
            "Epoch 175/200\n",
            "68/75 [==========================>...] - ETA: 0s - loss: 0.2131 - accuracy: 0.9113\n",
            "Epoch 175: val_loss did not improve from 0.17324\n",
            "75/75 [==============================] - 0s 6ms/step - loss: 0.2141 - accuracy: 0.9097 - val_loss: 0.1888 - val_accuracy: 0.9376\n",
            "Epoch 176/200\n",
            "68/75 [==========================>...] - ETA: 0s - loss: 0.2289 - accuracy: 0.8994\n",
            "Epoch 176: val_loss did not improve from 0.17324\n",
            "75/75 [==============================] - 0s 6ms/step - loss: 0.2280 - accuracy: 0.8992 - val_loss: 0.2005 - val_accuracy: 0.9292\n",
            "Epoch 177/200\n",
            "69/75 [==========================>...] - ETA: 0s - loss: 0.2239 - accuracy: 0.9049\n",
            "Epoch 177: val_loss did not improve from 0.17324\n",
            "75/75 [==============================] - 0s 6ms/step - loss: 0.2211 - accuracy: 0.9068 - val_loss: 0.1749 - val_accuracy: 0.9444\n",
            "Epoch 178/200\n",
            "70/75 [===========================>..] - ETA: 0s - loss: 0.2060 - accuracy: 0.9107\n",
            "Epoch 178: val_loss did not improve from 0.17324\n",
            "75/75 [==============================] - 0s 6ms/step - loss: 0.2080 - accuracy: 0.9106 - val_loss: 0.1917 - val_accuracy: 0.9309\n",
            "Epoch 179/200\n",
            "70/75 [===========================>..] - ETA: 0s - loss: 0.2232 - accuracy: 0.9071\n",
            "Epoch 179: val_loss did not improve from 0.17324\n",
            "75/75 [==============================] - 0s 6ms/step - loss: 0.2191 - accuracy: 0.9089 - val_loss: 0.1849 - val_accuracy: 0.9342\n",
            "Epoch 180/200\n",
            "71/75 [===========================>..] - ETA: 0s - loss: 0.2166 - accuracy: 0.9062\n",
            "Epoch 180: val_loss did not improve from 0.17324\n",
            "75/75 [==============================] - 0s 6ms/step - loss: 0.2220 - accuracy: 0.9059 - val_loss: 0.2019 - val_accuracy: 0.9089\n",
            "Epoch 181/200\n",
            "70/75 [===========================>..] - ETA: 0s - loss: 0.2066 - accuracy: 0.9138\n",
            "Epoch 181: val_loss did not improve from 0.17324\n",
            "75/75 [==============================] - 0s 6ms/step - loss: 0.2093 - accuracy: 0.9131 - val_loss: 0.2025 - val_accuracy: 0.9241\n",
            "Epoch 182/200\n",
            "68/75 [==========================>...] - ETA: 0s - loss: 0.2080 - accuracy: 0.9164\n",
            "Epoch 182: val_loss did not improve from 0.17324\n",
            "75/75 [==============================] - 0s 6ms/step - loss: 0.2060 - accuracy: 0.9190 - val_loss: 0.1973 - val_accuracy: 0.9376\n",
            "Epoch 183/200\n",
            "65/75 [=========================>....] - ETA: 0s - loss: 0.2025 - accuracy: 0.9173\n",
            "Epoch 183: val_loss did not improve from 0.17324\n",
            "75/75 [==============================] - 0s 6ms/step - loss: 0.2011 - accuracy: 0.9169 - val_loss: 0.1891 - val_accuracy: 0.9376\n",
            "Epoch 184/200\n",
            "75/75 [==============================] - ETA: 0s - loss: 0.2301 - accuracy: 0.9106\n",
            "Epoch 184: val_loss did not improve from 0.17324\n",
            "75/75 [==============================] - 0s 7ms/step - loss: 0.2301 - accuracy: 0.9106 - val_loss: 0.1975 - val_accuracy: 0.9275\n",
            "Epoch 185/200\n",
            "68/75 [==========================>...] - ETA: 0s - loss: 0.2123 - accuracy: 0.9187\n",
            "Epoch 185: val_loss improved from 0.17324 to 0.17281, saving model to saved_models\\heart_sound_classification.hdf5\n",
            "75/75 [==============================] - 1s 7ms/step - loss: 0.2118 - accuracy: 0.9178 - val_loss: 0.1728 - val_accuracy: 0.9427\n",
            "Epoch 186/200\n",
            "65/75 [=========================>....] - ETA: 0s - loss: 0.2086 - accuracy: 0.9154\n",
            "Epoch 186: val_loss did not improve from 0.17281\n",
            "75/75 [==============================] - 0s 6ms/step - loss: 0.2088 - accuracy: 0.9135 - val_loss: 0.1863 - val_accuracy: 0.9393\n",
            "Epoch 187/200\n",
            "73/75 [============================>.] - ETA: 0s - loss: 0.2110 - accuracy: 0.9148\n",
            "Epoch 187: val_loss did not improve from 0.17281\n",
            "75/75 [==============================] - 1s 9ms/step - loss: 0.2124 - accuracy: 0.9135 - val_loss: 0.1957 - val_accuracy: 0.9342\n",
            "Epoch 188/200\n",
            "72/75 [===========================>..] - ETA: 0s - loss: 0.2087 - accuracy: 0.9136\n",
            "Epoch 188: val_loss did not improve from 0.17281\n",
            "75/75 [==============================] - 1s 8ms/step - loss: 0.2081 - accuracy: 0.9144 - val_loss: 0.1921 - val_accuracy: 0.9342\n",
            "Epoch 189/200\n",
            "72/75 [===========================>..] - ETA: 0s - loss: 0.2094 - accuracy: 0.9128\n",
            "Epoch 189: val_loss did not improve from 0.17281\n",
            "75/75 [==============================] - 0s 6ms/step - loss: 0.2068 - accuracy: 0.9140 - val_loss: 0.1947 - val_accuracy: 0.9292\n",
            "Epoch 190/200\n",
            "72/75 [===========================>..] - ETA: 0s - loss: 0.2134 - accuracy: 0.9115\n",
            "Epoch 190: val_loss did not improve from 0.17281\n",
            "75/75 [==============================] - 0s 6ms/step - loss: 0.2105 - accuracy: 0.9131 - val_loss: 0.1764 - val_accuracy: 0.9410\n",
            "Epoch 191/200\n",
            "67/75 [=========================>....] - ETA: 0s - loss: 0.2225 - accuracy: 0.9090\n",
            "Epoch 191: val_loss did not improve from 0.17281\n",
            "75/75 [==============================] - 0s 6ms/step - loss: 0.2237 - accuracy: 0.9097 - val_loss: 0.1913 - val_accuracy: 0.9342\n",
            "Epoch 192/200\n",
            "71/75 [===========================>..] - ETA: 0s - loss: 0.2209 - accuracy: 0.9080\n",
            "Epoch 192: val_loss did not improve from 0.17281\n",
            "75/75 [==============================] - 0s 6ms/step - loss: 0.2177 - accuracy: 0.9097 - val_loss: 0.1955 - val_accuracy: 0.9359\n",
            "Epoch 193/200\n",
            "74/75 [============================>.] - ETA: 0s - loss: 0.2001 - accuracy: 0.9227\n",
            "Epoch 193: val_loss did not improve from 0.17281\n",
            "75/75 [==============================] - 0s 6ms/step - loss: 0.2000 - accuracy: 0.9228 - val_loss: 0.1902 - val_accuracy: 0.9359\n",
            "Epoch 194/200\n",
            "70/75 [===========================>..] - ETA: 0s - loss: 0.2063 - accuracy: 0.9116\n",
            "Epoch 194: val_loss did not improve from 0.17281\n",
            "75/75 [==============================] - 0s 6ms/step - loss: 0.2057 - accuracy: 0.9140 - val_loss: 0.1792 - val_accuracy: 0.9393\n",
            "Epoch 195/200\n",
            "71/75 [===========================>..] - ETA: 0s - loss: 0.2150 - accuracy: 0.9115\n",
            "Epoch 195: val_loss did not improve from 0.17281\n",
            "75/75 [==============================] - 0s 6ms/step - loss: 0.2158 - accuracy: 0.9119 - val_loss: 0.1773 - val_accuracy: 0.9376\n",
            "Epoch 196/200\n",
            "69/75 [==========================>...] - ETA: 0s - loss: 0.2141 - accuracy: 0.9121\n",
            "Epoch 196: val_loss did not improve from 0.17281\n",
            "75/75 [==============================] - 0s 6ms/step - loss: 0.2155 - accuracy: 0.9114 - val_loss: 0.1876 - val_accuracy: 0.9376\n",
            "Epoch 197/200\n",
            "73/75 [============================>.] - ETA: 0s - loss: 0.2083 - accuracy: 0.9170\n",
            "Epoch 197: val_loss did not improve from 0.17281\n",
            "75/75 [==============================] - 0s 6ms/step - loss: 0.2080 - accuracy: 0.9178 - val_loss: 0.1969 - val_accuracy: 0.9309\n",
            "Epoch 198/200\n",
            "69/75 [==========================>...] - ETA: 0s - loss: 0.2104 - accuracy: 0.9207\n",
            "Epoch 198: val_loss did not improve from 0.17281\n",
            "75/75 [==============================] - 0s 6ms/step - loss: 0.2183 - accuracy: 0.9194 - val_loss: 0.1964 - val_accuracy: 0.9292\n",
            "Epoch 199/200\n",
            "68/75 [==========================>...] - ETA: 0s - loss: 0.2011 - accuracy: 0.9136\n",
            "Epoch 199: val_loss did not improve from 0.17281\n",
            "75/75 [==============================] - 1s 7ms/step - loss: 0.2054 - accuracy: 0.9102 - val_loss: 0.1962 - val_accuracy: 0.9309\n",
            "Epoch 200/200\n",
            "65/75 [=========================>....] - ETA: 0s - loss: 0.1998 - accuracy: 0.9154\n",
            "Epoch 200: val_loss did not improve from 0.17281\n",
            "75/75 [==============================] - 0s 6ms/step - loss: 0.2071 - accuracy: 0.9135 - val_loss: 0.1764 - val_accuracy: 0.9410\n",
            "Training completed in time:  0:01:36.695867\n"
          ]
        }
      ],
      "source": [
        "## Trianing my model\n",
        "from tensorflow.keras.callbacks import ModelCheckpoint\n",
        "from datetime import datetime\n",
        "\n",
        "num_epochs = 200\n",
        "num_batch_size = 32\n",
        "\n",
        "checkpointer = ModelCheckpoint(filepath='saved_models/heart_sound_classification.hdf5',\n",
        "                               verbose=1, save_best_only=True)\n",
        "start = datetime.now()\n",
        "\n",
        "model.fit(X_train, y_train, batch_size=num_batch_size, epochs=num_epochs, validation_data=(X_test, y_test), callbacks=[checkpointer], verbose=1)\n",
        "\n",
        "\n",
        "duration = datetime.now() - start\n",
        "print(\"Training completed in time: \", duration)"
      ]
    },
    {
      "cell_type": "code",
      "execution_count": null,
      "id": "76844f76",
      "metadata": {
        "id": "76844f76",
        "outputId": "253d7932-0ceb-4ec9-ff64-4c4cc30a46d9"
      },
      "outputs": [
        {
          "name": "stdout",
          "output_type": "stream",
          "text": [
            "0.9409780502319336\n"
          ]
        }
      ],
      "source": [
        "test_accuracy=model.evaluate(X_test,y_test,verbose=0)\n",
        "print(test_accuracy[1])"
      ]
    }
  ],
  "metadata": {
    "kernelspec": {
      "display_name": "Python 3 (ipykernel)",
      "language": "python",
      "name": "python3"
    },
    "language_info": {
      "codemirror_mode": {
        "name": "ipython",
        "version": 3
      },
      "file_extension": ".py",
      "mimetype": "text/x-python",
      "name": "python",
      "nbconvert_exporter": "python",
      "pygments_lexer": "ipython3",
      "version": "3.10.9"
    },
    "colab": {
      "provenance": []
    }
  },
  "nbformat": 4,
  "nbformat_minor": 5
}